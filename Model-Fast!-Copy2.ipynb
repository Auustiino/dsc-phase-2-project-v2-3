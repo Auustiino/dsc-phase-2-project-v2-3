{
 "cells": [
  {
   "cell_type": "code",
   "execution_count": 1,
   "metadata": {},
   "outputs": [],
   "source": [
    "import pandas as pd \n",
    "import numpy as np \n",
    "import seaborn as sns\n",
    "import scipy.stats as stats\n",
    "\n",
    "from pandas.api.types import CategoricalDtype\n",
    "\n",
    "from statsmodels.miscmodels.ordinal_model import OrderedModel\n",
    "import statsmodels.api as sm\n",
    "\n",
    "from sklearn.linear_model import LinearRegression\n",
    "from sklearn.model_selection import train_test_split\n",
    "from sklearn.metrics import mean_absolute_error\n",
    "from sklearn.metrics import mean_squared_error\n",
    "from sklearn.preprocessing import OneHotEncoder\n",
    "from sklearn.preprocessing import OrdinalEncoder"
   ]
  },
  {
   "cell_type": "code",
   "execution_count": 110,
   "metadata": {},
   "outputs": [
    {
     "data": {
      "text/plain": [
       "Index(['id', 'date', 'price', 'bedrooms', 'bathrooms', 'sqft_living',\n",
       "       'sqft_lot', 'floors', 'waterfront', 'view', 'condition', 'grade',\n",
       "       'sqft_above', 'sqft_basement', 'yr_built', 'yr_renovated', 'zipcode',\n",
       "       'lat', 'long', 'sqft_living15', 'sqft_lot15'],\n",
       "      dtype='object')"
      ]
     },
     "execution_count": 110,
     "metadata": {},
     "output_type": "execute_result"
    }
   ],
   "source": [
    "house_data = pd.read_csv('data/kc_house_data.csv')\n",
    "house_data.columns"
   ]
  },
  {
   "cell_type": "code",
   "execution_count": 276,
   "metadata": {},
   "outputs": [
    {
     "data": {
      "text/html": [
       "<div>\n",
       "<style scoped>\n",
       "    .dataframe tbody tr th:only-of-type {\n",
       "        vertical-align: middle;\n",
       "    }\n",
       "\n",
       "    .dataframe tbody tr th {\n",
       "        vertical-align: top;\n",
       "    }\n",
       "\n",
       "    .dataframe thead tr th {\n",
       "        text-align: left;\n",
       "    }\n",
       "\n",
       "    .dataframe thead tr:last-of-type th {\n",
       "        text-align: right;\n",
       "    }\n",
       "</style>\n",
       "<table border=\"1\" class=\"dataframe\">\n",
       "  <thead>\n",
       "    <tr>\n",
       "      <th></th>\n",
       "      <th colspan=\"8\" halign=\"left\">id</th>\n",
       "      <th colspan=\"2\" halign=\"left\">price</th>\n",
       "      <th>...</th>\n",
       "      <th colspan=\"2\" halign=\"left\">sqft_living15</th>\n",
       "      <th colspan=\"8\" halign=\"left\">sqft_lot15</th>\n",
       "    </tr>\n",
       "    <tr>\n",
       "      <th></th>\n",
       "      <th>count</th>\n",
       "      <th>mean</th>\n",
       "      <th>std</th>\n",
       "      <th>min</th>\n",
       "      <th>25%</th>\n",
       "      <th>50%</th>\n",
       "      <th>75%</th>\n",
       "      <th>max</th>\n",
       "      <th>count</th>\n",
       "      <th>mean</th>\n",
       "      <th>...</th>\n",
       "      <th>75%</th>\n",
       "      <th>max</th>\n",
       "      <th>count</th>\n",
       "      <th>mean</th>\n",
       "      <th>std</th>\n",
       "      <th>min</th>\n",
       "      <th>25%</th>\n",
       "      <th>50%</th>\n",
       "      <th>75%</th>\n",
       "      <th>max</th>\n",
       "    </tr>\n",
       "    <tr>\n",
       "      <th>view</th>\n",
       "      <th></th>\n",
       "      <th></th>\n",
       "      <th></th>\n",
       "      <th></th>\n",
       "      <th></th>\n",
       "      <th></th>\n",
       "      <th></th>\n",
       "      <th></th>\n",
       "      <th></th>\n",
       "      <th></th>\n",
       "      <th></th>\n",
       "      <th></th>\n",
       "      <th></th>\n",
       "      <th></th>\n",
       "      <th></th>\n",
       "      <th></th>\n",
       "      <th></th>\n",
       "      <th></th>\n",
       "      <th></th>\n",
       "      <th></th>\n",
       "      <th></th>\n",
       "    </tr>\n",
       "  </thead>\n",
       "  <tbody>\n",
       "    <tr>\n",
       "      <th>AVERAGE</th>\n",
       "      <td>836.0</td>\n",
       "      <td>4.795880e+09</td>\n",
       "      <td>2.936577e+09</td>\n",
       "      <td>31000165.0</td>\n",
       "      <td>2.284750e+09</td>\n",
       "      <td>4.153052e+09</td>\n",
       "      <td>7.633500e+09</td>\n",
       "      <td>9.830200e+09</td>\n",
       "      <td>836.0</td>\n",
       "      <td>7.948774e+05</td>\n",
       "      <td>...</td>\n",
       "      <td>2860.0</td>\n",
       "      <td>5500.0</td>\n",
       "      <td>836.0</td>\n",
       "      <td>18133.395933</td>\n",
       "      <td>46350.998927</td>\n",
       "      <td>1057.0</td>\n",
       "      <td>5749.00</td>\n",
       "      <td>8277.0</td>\n",
       "      <td>12598.50</td>\n",
       "      <td>858132.0</td>\n",
       "    </tr>\n",
       "    <tr>\n",
       "      <th>EXCELLENT</th>\n",
       "      <td>290.0</td>\n",
       "      <td>4.985087e+09</td>\n",
       "      <td>2.935524e+09</td>\n",
       "      <td>98001070.0</td>\n",
       "      <td>2.541587e+09</td>\n",
       "      <td>4.082951e+09</td>\n",
       "      <td>7.855150e+09</td>\n",
       "      <td>9.829200e+09</td>\n",
       "      <td>290.0</td>\n",
       "      <td>1.462409e+06</td>\n",
       "      <td>...</td>\n",
       "      <td>3295.0</td>\n",
       "      <td>5380.0</td>\n",
       "      <td>290.0</td>\n",
       "      <td>19222.758621</td>\n",
       "      <td>28113.933614</td>\n",
       "      <td>1505.0</td>\n",
       "      <td>8400.50</td>\n",
       "      <td>12620.0</td>\n",
       "      <td>19718.75</td>\n",
       "      <td>248292.0</td>\n",
       "    </tr>\n",
       "    <tr>\n",
       "      <th>FAIR</th>\n",
       "      <td>291.0</td>\n",
       "      <td>4.608214e+09</td>\n",
       "      <td>2.714042e+09</td>\n",
       "      <td>34001160.0</td>\n",
       "      <td>2.487201e+09</td>\n",
       "      <td>4.019301e+09</td>\n",
       "      <td>7.129301e+09</td>\n",
       "      <td>9.830200e+09</td>\n",
       "      <td>291.0</td>\n",
       "      <td>8.124678e+05</td>\n",
       "      <td>...</td>\n",
       "      <td>2805.0</td>\n",
       "      <td>4190.0</td>\n",
       "      <td>291.0</td>\n",
       "      <td>10481.687285</td>\n",
       "      <td>10492.128852</td>\n",
       "      <td>1249.0</td>\n",
       "      <td>6011.50</td>\n",
       "      <td>8720.0</td>\n",
       "      <td>11904.50</td>\n",
       "      <td>127195.0</td>\n",
       "    </tr>\n",
       "    <tr>\n",
       "      <th>GOOD</th>\n",
       "      <td>435.0</td>\n",
       "      <td>4.456650e+09</td>\n",
       "      <td>2.890868e+09</td>\n",
       "      <td>46100350.0</td>\n",
       "      <td>1.939355e+09</td>\n",
       "      <td>3.880900e+09</td>\n",
       "      <td>7.474500e+09</td>\n",
       "      <td>9.808630e+09</td>\n",
       "      <td>435.0</td>\n",
       "      <td>9.831309e+05</td>\n",
       "      <td>...</td>\n",
       "      <td>3145.0</td>\n",
       "      <td>6110.0</td>\n",
       "      <td>435.0</td>\n",
       "      <td>22759.000000</td>\n",
       "      <td>53024.778799</td>\n",
       "      <td>1284.0</td>\n",
       "      <td>6000.00</td>\n",
       "      <td>9134.0</td>\n",
       "      <td>15193.50</td>\n",
       "      <td>560617.0</td>\n",
       "    </tr>\n",
       "    <tr>\n",
       "      <th>NONE</th>\n",
       "      <td>17312.0</td>\n",
       "      <td>4.581009e+09</td>\n",
       "      <td>2.874748e+09</td>\n",
       "      <td>1000102.0</td>\n",
       "      <td>2.121779e+09</td>\n",
       "      <td>3.904911e+09</td>\n",
       "      <td>7.304301e+09</td>\n",
       "      <td>9.900000e+09</td>\n",
       "      <td>17312.0</td>\n",
       "      <td>4.981297e+05</td>\n",
       "      <td>...</td>\n",
       "      <td>2270.0</td>\n",
       "      <td>6210.0</td>\n",
       "      <td>17312.0</td>\n",
       "      <td>12220.990296</td>\n",
       "      <td>25420.921098</td>\n",
       "      <td>651.0</td>\n",
       "      <td>5016.75</td>\n",
       "      <td>7546.5</td>\n",
       "      <td>9860.00</td>\n",
       "      <td>871200.0</td>\n",
       "    </tr>\n",
       "  </tbody>\n",
       "</table>\n",
       "<p>5 rows × 120 columns</p>\n",
       "</div>"
      ],
      "text/plain": [
       "                id                                                        \\\n",
       "             count          mean           std         min           25%   \n",
       "view                                                                       \n",
       "AVERAGE      836.0  4.795880e+09  2.936577e+09  31000165.0  2.284750e+09   \n",
       "EXCELLENT    290.0  4.985087e+09  2.935524e+09  98001070.0  2.541587e+09   \n",
       "FAIR         291.0  4.608214e+09  2.714042e+09  34001160.0  2.487201e+09   \n",
       "GOOD         435.0  4.456650e+09  2.890868e+09  46100350.0  1.939355e+09   \n",
       "NONE       17312.0  4.581009e+09  2.874748e+09   1000102.0  2.121779e+09   \n",
       "\n",
       "                                                       price                \\\n",
       "                    50%           75%           max    count          mean   \n",
       "view                                                                         \n",
       "AVERAGE    4.153052e+09  7.633500e+09  9.830200e+09    836.0  7.948774e+05   \n",
       "EXCELLENT  4.082951e+09  7.855150e+09  9.829200e+09    290.0  1.462409e+06   \n",
       "FAIR       4.019301e+09  7.129301e+09  9.830200e+09    291.0  8.124678e+05   \n",
       "GOOD       3.880900e+09  7.474500e+09  9.808630e+09    435.0  9.831309e+05   \n",
       "NONE       3.904911e+09  7.304301e+09  9.900000e+09  17312.0  4.981297e+05   \n",
       "\n",
       "           ... sqft_living15         sqft_lot15                              \\\n",
       "           ...           75%     max      count          mean           std   \n",
       "view       ...                                                                \n",
       "AVERAGE    ...        2860.0  5500.0      836.0  18133.395933  46350.998927   \n",
       "EXCELLENT  ...        3295.0  5380.0      290.0  19222.758621  28113.933614   \n",
       "FAIR       ...        2805.0  4190.0      291.0  10481.687285  10492.128852   \n",
       "GOOD       ...        3145.0  6110.0      435.0  22759.000000  53024.778799   \n",
       "NONE       ...        2270.0  6210.0    17312.0  12220.990296  25420.921098   \n",
       "\n",
       "                                                         \n",
       "              min      25%      50%       75%       max  \n",
       "view                                                     \n",
       "AVERAGE    1057.0  5749.00   8277.0  12598.50  858132.0  \n",
       "EXCELLENT  1505.0  8400.50  12620.0  19718.75  248292.0  \n",
       "FAIR       1249.0  6011.50   8720.0  11904.50  127195.0  \n",
       "GOOD       1284.0  6000.00   9134.0  15193.50  560617.0  \n",
       "NONE        651.0  5016.75   7546.5   9860.00  871200.0  \n",
       "\n",
       "[5 rows x 120 columns]"
      ]
     },
     "execution_count": 276,
     "metadata": {},
     "output_type": "execute_result"
    }
   ],
   "source": [
    "test = house_data.groupby('view')\n",
    "test."
   ]
  },
  {
   "cell_type": "code",
   "execution_count": 277,
   "metadata": {},
   "outputs": [
    {
     "data": {
      "text/plain": [
       "98103    540\n",
       "98038    528\n",
       "98115    515\n",
       "98052    506\n",
       "98117    495\n",
       "        ... \n",
       "98102     89\n",
       "98010     87\n",
       "98024     73\n",
       "98148     51\n",
       "98039     45\n",
       "Name: zipcode, Length: 70, dtype: int64"
      ]
     },
     "execution_count": 277,
     "metadata": {},
     "output_type": "execute_result"
    }
   ],
   "source": [
    "house_data.zipcode.value_counts()"
   ]
  },
  {
   "cell_type": "code",
   "execution_count": 255,
   "metadata": {},
   "outputs": [],
   "source": [
    "test_data = house_data[['id', 'bedrooms', 'bathrooms', 'sqft_living', 'floors',\n",
    "                        'condition','grade', 'yr_built', 'zipcode', 'view', 'price'\n",
    "                       ]].copy()\n",
    "\n",
    "# Drop id nulls and duplicates \n",
    "test_data.drop_duplicates(subset= 'id', keep='first', inplace=True, ignore_index = True)\n",
    "\n",
    "\n",
    "# bedrooms drop all greater than 6\n",
    "test_data.drop(test_data.index[test_data['bedrooms'] >= 7], inplace = True)\n",
    "\n",
    "\n",
    "#bathrooms remove all bathroom values less than 1 , greater than 4 \n",
    "# test_data = test_data[test_data.bathrooms >= 1.0]\n",
    "# test_data = test_data[test_data.bathrooms <= 4.0]\n",
    "test_data['bathrooms'] = test_data['bathrooms'].dropna()\n",
    "\n",
    "\n",
    "# sqft_living drop above 5000\n",
    "# test_data = test_data[test_data.sqft_living < 5000]\n",
    "\n",
    "\n",
    "\n",
    "# May potentially reduce range of year built -- cutoff around 1920\n",
    "\n",
    "# Price drop outliers \n",
    "# test_data = test_data[test_data.price < 2000000]\n",
    "test_data['price'] = test_data['price'].map(lambda x: np.log(x)) #UNDO_______________   \n",
    "\n",
    "\n",
    "# Waterfront drop nulls \n",
    "house_data = house_data[house_data['waterfront'].notna()]\n",
    "# **************************************************************************************\n",
    "# ABOVE IS GOOD \n",
    "\n",
    "\n",
    "\n",
    "\n",
    "\n",
    "\n",
    "\n",
    "# test_data[nom_features].shape"
   ]
  },
  {
   "cell_type": "code",
   "execution_count": 256,
   "metadata": {},
   "outputs": [
    {
     "data": {
      "text/plain": [
       "0        NONE\n",
       "1        NONE\n",
       "2        NONE\n",
       "3        NONE\n",
       "4        NONE\n",
       "         ... \n",
       "19082    NONE\n",
       "19083    NONE\n",
       "19084    NONE\n",
       "19085    NONE\n",
       "19086    NONE\n",
       "Name: view, Length: 19030, dtype: object"
      ]
     },
     "execution_count": 256,
     "metadata": {},
     "output_type": "execute_result"
    }
   ],
   "source": [
    "# house_data = house_data[house_data['waterfront'].notna()]\n",
    "# len(house_data.waterfront.isna() == True)\n",
    "test_data = test_data[test_data['view'].notna()]\n",
    "test_data.view"
   ]
  },
  {
   "cell_type": "code",
   "execution_count": 271,
   "metadata": {},
   "outputs": [
    {
     "data": {
      "text/plain": [
       "(19030, 3)"
      ]
     },
     "execution_count": 271,
     "metadata": {},
     "output_type": "execute_result"
    }
   ],
   "source": [
    "ord_cat_selector = ['condition', 'grade', 'view'] # ----original\n",
    "# ord_cat_selector = ['view'] #----test\n",
    "\n",
    "\n",
    "cat_subset = test_data[ord_cat_selector]\n",
    "cat_subset\n",
    "\n",
    "ordered_condition = ['Poor', 'Fair', 'Average', 'Good', 'Very Good']\n",
    "ordered_grade = ['3 Poor', '4 Low', '5 Fair', '6 Low Average', '7 Average','8 Good',\n",
    "                 '9 Better', '10 Very Good', '11 Excellent','12 Luxury', \n",
    "                 '13 Mansion']\n",
    "ordered_view = ['NONE', 'AVERAGE', 'GOOD', 'FAIR', 'EXCELLENT']\n",
    "\n",
    "o_enc = OrdinalEncoder(categories = [ordered_condition, ordered_grade, ordered_view]) # --- original\n",
    "# o_enc = OrdinalEncoder(categories = [ordered_view]) # ---test\n",
    "\n",
    "\n",
    "o_enc.fit(cat_subset)\n",
    "\n",
    "X_subset = pd.DataFrame(o_enc.transform(cat_subset),\n",
    "                        columns = cat_subset.columns)\n",
    "X_subset.shape\n",
    "# o_enc"
   ]
  },
  {
   "cell_type": "code",
   "execution_count": 274,
   "metadata": {},
   "outputs": [
    {
     "name": "stderr",
     "output_type": "stream",
     "text": [
      "/Users/austinboring/opt/anaconda3/envs/learn-env/lib/python3.8/site-packages/seaborn/_decorators.py:36: FutureWarning: Pass the following variables as keyword args: x, y. From version 0.12, the only valid positional argument will be `data`, and passing other arguments without an explicit keyword will result in an error or misinterpretation.\n",
      "  warnings.warn(\n"
     ]
    },
    {
     "data": {
      "text/plain": [
       "<AxesSubplot:xlabel='condition', ylabel='yr_built'>"
      ]
     },
     "execution_count": 274,
     "metadata": {},
     "output_type": "execute_result"
    },
    {
     "data": {
      "image/png": "[encoded data removed]",
      "text/plain": [
       "<Figure size 432x288 with 1 Axes>"
      ]
     },
     "metadata": {
      "needs_background": "light"
     },
     "output_type": "display_data"
    }
   ],
   "source": [
    "# pd.plotting.scatter_matrix(test_data[['bedrooms', 'bathrooms', 'sqft_living', 'floors',\n",
    "#                         'condition','grade', 'yr_built', 'zipcode', 'price']], figsize=(10,12));\n",
    "\n",
    "sns.scatterplot(test_data.condition, test_data.yr_built)"
   ]
  },
  {
   "cell_type": "code",
   "execution_count": 259,
   "metadata": {},
   "outputs": [],
   "source": [
    "# test_data.waterfront\n"
   ]
  },
  {
   "cell_type": "code",
   "execution_count": 260,
   "metadata": {},
   "outputs": [
    {
     "data": {
      "text/plain": [
       "NONE         17312\n",
       "AVERAGE        836\n",
       "GOOD           435\n",
       "FAIR           291\n",
       "EXCELLENT      290\n",
       "Name: view, dtype: int64"
      ]
     },
     "execution_count": 260,
     "metadata": {},
     "output_type": "execute_result"
    }
   ],
   "source": [
    "house_data.view.value_counts()"
   ]
  },
  {
   "cell_type": "code",
   "execution_count": 261,
   "metadata": {},
   "outputs": [
    {
     "data": {
      "text/plain": [
       "LinearRegression()"
      ]
     },
     "execution_count": 261,
     "metadata": {},
     "output_type": "execute_result"
    }
   ],
   "source": [
    "lr = LinearRegression()\n",
    "lr"
   ]
  },
  {
   "cell_type": "code",
   "execution_count": 262,
   "metadata": {},
   "outputs": [],
   "source": [
    "# pd.plotting.scatter_matrix(test_data[nom_features], figsize=(10,12)); "
   ]
  },
  {
   "cell_type": "code",
   "execution_count": 282,
   "metadata": {},
   "outputs": [],
   "source": [
    "\n",
    "# nom_features = ['bathrooms', 'sqft_living', 'floors', 'zipcode', 'price'] #test\n",
    "# nom_features = ['bedrooms','bathrooms', 'sqft_living', 'floors', 'zipcode', 'price'] #test\n",
    "nom_features = ['sqft_living', 'zipcode', 'price'] #test\n",
    "\n",
    "\n",
    "\n",
    "\n",
    "\n",
    "# nom_features = ['bedrooms', 'bathrooms', 'sqft_living', 'floors', 'yr_built', 'zipcode', 'price'] #original\n",
    "ord_features = X_subset\n",
    "# dum_waterfront = pd.get_dummies(house_data['waterfront'], prefix = 'wtr', drop_first = True)\n",
    "# X_ = pd.concat([test_data[nom_features], X_subset, dum_waterfront],join = 'inner', axis = 1) #-- original\n",
    "X_ = pd.concat([test_data[nom_features], X_subset],join = 'inner', axis = 1) #--test\n",
    "\n",
    "\n",
    "X = X_.drop(columns = 'price')\n",
    "y = X_['price']\n",
    "X_train, X_test, y_train, y_test = train_test_split(X, y, test_size=0.3)"
   ]
  },
  {
   "cell_type": "code",
   "execution_count": 283,
   "metadata": {},
   "outputs": [
    {
     "data": {
      "text/html": [
       "<div>\n",
       "<style scoped>\n",
       "    .dataframe tbody tr th:only-of-type {\n",
       "        vertical-align: middle;\n",
       "    }\n",
       "\n",
       "    .dataframe tbody tr th {\n",
       "        vertical-align: top;\n",
       "    }\n",
       "\n",
       "    .dataframe thead th {\n",
       "        text-align: right;\n",
       "    }\n",
       "</style>\n",
       "<table border=\"1\" class=\"dataframe\">\n",
       "  <thead>\n",
       "    <tr style=\"text-align: right;\">\n",
       "      <th></th>\n",
       "      <th>sqft_living</th>\n",
       "      <th>zipcode</th>\n",
       "      <th>price</th>\n",
       "      <th>condition</th>\n",
       "      <th>grade</th>\n",
       "      <th>view</th>\n",
       "    </tr>\n",
       "  </thead>\n",
       "  <tbody>\n",
       "    <tr>\n",
       "      <th>sqft_living</th>\n",
       "      <td>1.000000</td>\n",
       "      <td>-0.194412</td>\n",
       "      <td>0.696285</td>\n",
       "      <td>-0.017469</td>\n",
       "      <td>0.024651</td>\n",
       "      <td>-0.000687</td>\n",
       "    </tr>\n",
       "    <tr>\n",
       "      <th>zipcode</th>\n",
       "      <td>-0.194412</td>\n",
       "      <td>1.000000</td>\n",
       "      <td>-0.032111</td>\n",
       "      <td>0.004031</td>\n",
       "      <td>-0.005129</td>\n",
       "      <td>-0.000387</td>\n",
       "    </tr>\n",
       "    <tr>\n",
       "      <th>price</th>\n",
       "      <td>0.696285</td>\n",
       "      <td>-0.032111</td>\n",
       "      <td>1.000000</td>\n",
       "      <td>-0.014028</td>\n",
       "      <td>0.010863</td>\n",
       "      <td>-0.004847</td>\n",
       "    </tr>\n",
       "    <tr>\n",
       "      <th>condition</th>\n",
       "      <td>-0.017469</td>\n",
       "      <td>0.004031</td>\n",
       "      <td>-0.014028</td>\n",
       "      <td>1.000000</td>\n",
       "      <td>-0.147234</td>\n",
       "      <td>0.048197</td>\n",
       "    </tr>\n",
       "    <tr>\n",
       "      <th>grade</th>\n",
       "      <td>0.024651</td>\n",
       "      <td>-0.005129</td>\n",
       "      <td>0.010863</td>\n",
       "      <td>-0.147234</td>\n",
       "      <td>1.000000</td>\n",
       "      <td>0.224967</td>\n",
       "    </tr>\n",
       "    <tr>\n",
       "      <th>view</th>\n",
       "      <td>-0.000687</td>\n",
       "      <td>-0.000387</td>\n",
       "      <td>-0.004847</td>\n",
       "      <td>0.048197</td>\n",
       "      <td>0.224967</td>\n",
       "      <td>1.000000</td>\n",
       "    </tr>\n",
       "  </tbody>\n",
       "</table>\n",
       "</div>"
      ],
      "text/plain": [
       "             sqft_living   zipcode     price  condition     grade      view\n",
       "sqft_living     1.000000 -0.194412  0.696285  -0.017469  0.024651 -0.000687\n",
       "zipcode        -0.194412  1.000000 -0.032111   0.004031 -0.005129 -0.000387\n",
       "price           0.696285 -0.032111  1.000000  -0.014028  0.010863 -0.004847\n",
       "condition      -0.017469  0.004031 -0.014028   1.000000 -0.147234  0.048197\n",
       "grade           0.024651 -0.005129  0.010863  -0.147234  1.000000  0.224967\n",
       "view           -0.000687 -0.000387 -0.004847   0.048197  0.224967  1.000000"
      ]
     },
     "execution_count": 283,
     "metadata": {},
     "output_type": "execute_result"
    }
   ],
   "source": [
    "X_.corr()"
   ]
  },
  {
   "cell_type": "code",
   "execution_count": 284,
   "metadata": {},
   "outputs": [],
   "source": [
    "# dum_waterfront # 19221\n",
    "# X_ # 21310\n",
    "# test_data[nom_features] #18557\n",
    "# ord_features# 18557"
   ]
  },
  {
   "cell_type": "code",
   "execution_count": 285,
   "metadata": {},
   "outputs": [
    {
     "name": "stdout",
     "output_type": "stream",
     "text": [
      "                            OLS Regression Results                            \n",
      "==============================================================================\n",
      "Dep. Variable:                  price   R-squared:                       0.496\n",
      "Model:                            OLS   Adj. R-squared:                  0.496\n",
      "Method:                 Least Squares   F-statistic:                     3733.\n",
      "Date:                Fri, 01 Apr 2022   Prob (F-statistic):               0.00\n",
      "Time:                        11:54:52   Log-Likelihood:                -8275.7\n",
      "No. Observations:               18974   AIC:                         1.656e+04\n",
      "Df Residuals:                   18968   BIC:                         1.661e+04\n",
      "Df Model:                           5                                         \n",
      "Covariance Type:            nonrobust                                         \n",
      "===============================================================================\n",
      "                  coef    std err          t      P>|t|      [0.025      0.975]\n",
      "-------------------------------------------------------------------------------\n",
      "const         -91.6582      5.088    -18.014      0.000    -101.631     -81.685\n",
      "sqft_living     0.0004   3.01e-06    136.428      0.000       0.000       0.000\n",
      "zipcode         0.0011   5.19e-05     20.419      0.000       0.001       0.001\n",
      "condition      -0.0022      0.004     -0.513      0.608      -0.010       0.006\n",
      "grade          -0.0027      0.002     -1.124      0.261      -0.007       0.002\n",
      "view           -0.0022      0.004     -0.533      0.594      -0.010       0.006\n",
      "==============================================================================\n",
      "Omnibus:                       16.526   Durbin-Watson:                   2.004\n",
      "Prob(Omnibus):                  0.000   Jarque-Bera (JB):               18.698\n",
      "Skew:                           0.015   Prob(JB):                     8.71e-05\n",
      "Kurtosis:                       3.151   Cond. No.                     1.84e+08\n",
      "==============================================================================\n",
      "\n",
      "Notes:\n",
      "[1] Standard Errors assume that the covariance matrix of the errors is correctly specified.\n",
      "[2] The condition number is large, 1.84e+08. This might indicate that there are\n",
      "strong multicollinearity or other numerical problems.\n"
     ]
    }
   ],
   "source": [
    "X2 = sm.add_constant(X)\n",
    "_1  = sm.OLS(y, X2)\n",
    "_2  = _1.fit()\n",
    "\n",
    "print(_2.summary())"
   ]
  },
  {
   "cell_type": "code",
   "execution_count": null,
   "metadata": {},
   "outputs": [],
   "source": []
  },
  {
   "cell_type": "code",
   "execution_count": 267,
   "metadata": {
    "scrolled": true
   },
   "outputs": [
    {
     "data": {
      "text/plain": [
       "LinearRegression()"
      ]
     },
     "execution_count": 267,
     "metadata": {},
     "output_type": "execute_result"
    }
   ],
   "source": [
    "lr.fit(X_train, y_train)"
   ]
  },
  {
   "cell_type": "code",
   "execution_count": 268,
   "metadata": {},
   "outputs": [
    {
     "data": {
      "text/plain": [
       "array([-0.06167987,  0.11710635,  0.0003774 ,  0.12895452, -0.00445211,\n",
       "        0.00039853, -0.00450086])"
      ]
     },
     "execution_count": 268,
     "metadata": {},
     "output_type": "execute_result"
    }
   ],
   "source": [
    "lr.coef_"
   ]
  },
  {
   "cell_type": "code",
   "execution_count": 269,
   "metadata": {},
   "outputs": [
    {
     "data": {
      "text/plain": [
       "0.53992205546518"
      ]
     },
     "execution_count": 269,
     "metadata": {},
     "output_type": "execute_result"
    }
   ],
   "source": [
    "lr.score(X_train, y_train)"
   ]
  },
  {
   "cell_type": "code",
   "execution_count": 210,
   "metadata": {},
   "outputs": [
    {
     "data": {
      "text/plain": [
       "Index(['bedrooms', 'bathrooms', 'sqft_living', 'floors', 'yr_built', 'zipcode',\n",
       "       'condition', 'grade', 'view', 'wtr_YES'],\n",
       "      dtype='object')"
      ]
     },
     "execution_count": 210,
     "metadata": {},
     "output_type": "execute_result"
    }
   ],
   "source": [
    "X.columns"
   ]
  },
  {
   "cell_type": "code",
   "execution_count": 211,
   "metadata": {},
   "outputs": [
    {
     "data": {
      "text/plain": [
       "array([12.97019113, 13.47530251, 13.31905935, 12.85907008, 13.92933329,\n",
       "       13.30797761, 13.82490558, 13.59074964, 12.39431408, 13.39672735])"
      ]
     },
     "execution_count": 211,
     "metadata": {},
     "output_type": "execute_result"
    }
   ],
   "source": [
    "# This gets the predictions of model on test set.\n",
    "y_pred = lr.predict(X_test)\n",
    "#get first ten elements of prediction.\n",
    "y_pred[0:10]"
   ]
  },
  {
   "cell_type": "code",
   "execution_count": 212,
   "metadata": {},
   "outputs": [
    {
     "data": {
      "text/plain": [
       "0.2864330786167961"
      ]
     },
     "execution_count": 212,
     "metadata": {},
     "output_type": "execute_result"
    }
   ],
   "source": [
    "MAE = mean_absolute_error(y_pred, y_test)\n",
    "MAE"
   ]
  },
  {
   "cell_type": "code",
   "execution_count": 213,
   "metadata": {},
   "outputs": [
    {
     "data": {
      "text/plain": [
       "0.35873538437064767"
      ]
     },
     "execution_count": 213,
     "metadata": {},
     "output_type": "execute_result"
    }
   ],
   "source": [
    "RMSE = np.sqrt(mean_squared_error(y_pred, y_test))\n",
    "RMSE"
   ]
  },
  {
   "cell_type": "code",
   "execution_count": 71,
   "metadata": {},
   "outputs": [],
   "source": [
    "# lr.summary()"
   ]
  },
  {
   "cell_type": "code",
   "execution_count": null,
   "metadata": {},
   "outputs": [],
   "source": [
    "\"\"\"\n",
    "sqft, zipcode, grade -- median price \n",
    "\n",
    "\n",
    "\"\"\""
   ]
  }
 ],
 "metadata": {
  "kernelspec": {
   "display_name": "Python 3.8.5 ('learn-env')",
   "language": "python",
   "name": "python385jvsc74a57bd00386e0ab960921a80f389732ca4b5c334f986e0948b3f6661aa613ff8b30dca4"
  },
  "language_info": {
   "codemirror_mode": {
    "name": "ipython",
    "version": 3
   },
   "file_extension": ".py",
   "mimetype": "text/x-python",
   "name": "python",
   "nbconvert_exporter": "python",
   "pygments_lexer": "ipython3",
   "version": "3.8.5"
  }
 },
 "nbformat": 4,
 "nbformat_minor": 4
}
