{
 "cells": [
  {
   "cell_type": "code",
   "execution_count": 856,
   "metadata": {},
   "outputs": [],
   "source": [
    "import pandas as pd \n",
    "from pandas.api.types import CategoricalDtype\n",
    "\n",
    "import numpy as np \n",
    "import seaborn as sns\n",
    "import scipy.stats as stats\n",
    "from matplotlib import pyplot as plt\n",
    "\n",
    "\n",
    "import statsmodels.api as sm\n",
    "from statsmodels.miscmodels.ordinal_model import OrderedModel\n",
    "from statsmodels.formula.api import ols\n",
    "\n",
    "from sklearn.linear_model import LinearRegression\n",
    "from sklearn.model_selection import train_test_split\n",
    "from sklearn.metrics import mean_absolute_error\n",
    "from sklearn.metrics import mean_squared_error\n",
    "from sklearn.preprocessing import OneHotEncoder\n",
    "from sklearn.preprocessing import OrdinalEncoder"
   ]
  },
  {
   "cell_type": "code",
   "execution_count": 889,
   "metadata": {
    "scrolled": true
   },
   "outputs": [
    {
     "data": {
      "text/plain": [
       "Index(['id', 'date', 'price', 'bedrooms', 'bathrooms', 'sqft_living',\n",
       "       'sqft_lot', 'floors', 'waterfront', 'view', 'condition', 'grade',\n",
       "       'sqft_above', 'sqft_basement', 'yr_built', 'yr_renovated', 'zipcode',\n",
       "       'lat', 'long', 'sqft_living15', 'sqft_lot15'],\n",
       "      dtype='object')"
      ]
     },
     "execution_count": 889,
     "metadata": {},
     "output_type": "execute_result"
    }
   ],
   "source": [
    "house_data = pd.read_csv('data/kc_house_data.csv')\n",
    "\n",
    "test_data = house_data[['id', 'bedrooms', 'bathrooms', 'sqft_living', 'floors',\n",
    "                        'condition','grade', 'yr_built', 'zipcode', 'view', 'price','yr_renovated'\n",
    "                       ]].copy()\n",
    "\n",
    "# Drop id nulls and duplicates \n",
    "test_data.drop_duplicates(subset= 'id', keep='first', inplace=True, ignore_index = True)\n",
    "\n",
    "\n",
    "# bedrooms drop all greater than 6\n",
    "test_data.drop(test_data.index[test_data['bedrooms'] >= 7], inplace = True) # ---- UNDO\n",
    "\n",
    "\n",
    "#bathrooms remove all bathroom values less than 1 , greater than 4 \n",
    "# test_data = test_data[test_data.bathrooms >= 1.0]\n",
    "# test_data = test_data[test_data.bathrooms <= 4.0]\n",
    "test_data['bathrooms'] = test_data['bathrooms'].dropna()\n",
    "\n",
    "\n",
    "# sqft_living drop above 5000\n",
    "# test_data = test_data[test_data.sqft_living < 5000]\n",
    "# test_data['sqft_living'] = test_data['sqft_living'].map(lambda x: np.log(x)) \n",
    "\n",
    "\n",
    "\n",
    "\n",
    "# May potentially reduce range of year built -- cutoff around 1920\n",
    "\n",
    "# Price drop outliers \n",
    "# test_data = test_data[test_data.price < 2000000]\n",
    "test_data['price'] = test_data['price'].map(lambda x: np.log(x)) # ---- UNDO\n",
    "\n",
    "\n",
    "# Waterfront drop nulls \n",
    "house_data = house_data[house_data['waterfront'].notna()]\n",
    "\n",
    "# View dropna\n",
    "test_data = test_data[test_data['view'].notna()]\n",
    "\n",
    "# grade drop single low value\n",
    "test_data = test_data[test_data['grade'] != '3 Poor']\n",
    "# **************************************************************************************\n",
    "# ABOVE IS GOOD \n",
    "test_data.zipcode.value_counts()\n",
    "house_data.columns"
   ]
  },
  {
   "cell_type": "code",
   "execution_count": 890,
   "metadata": {},
   "outputs": [
    {
     "data": {
      "text/html": [
       "<div>\n",
       "<style scoped>\n",
       "    .dataframe tbody tr th:only-of-type {\n",
       "        vertical-align: middle;\n",
       "    }\n",
       "\n",
       "    .dataframe tbody tr th {\n",
       "        vertical-align: top;\n",
       "    }\n",
       "\n",
       "    .dataframe thead th {\n",
       "        text-align: right;\n",
       "    }\n",
       "</style>\n",
       "<table border=\"1\" class=\"dataframe\">\n",
       "  <thead>\n",
       "    <tr style=\"text-align: right;\">\n",
       "      <th></th>\n",
       "      <th>id</th>\n",
       "      <th>price</th>\n",
       "      <th>bedrooms</th>\n",
       "      <th>bathrooms</th>\n",
       "      <th>sqft_living</th>\n",
       "      <th>sqft_lot</th>\n",
       "      <th>floors</th>\n",
       "      <th>sqft_above</th>\n",
       "      <th>yr_built</th>\n",
       "      <th>yr_renovated</th>\n",
       "      <th>zipcode</th>\n",
       "      <th>lat</th>\n",
       "      <th>long</th>\n",
       "      <th>sqft_living15</th>\n",
       "      <th>sqft_lot15</th>\n",
       "    </tr>\n",
       "  </thead>\n",
       "  <tbody>\n",
       "    <tr>\n",
       "      <th>id</th>\n",
       "      <td>1.000000</td>\n",
       "      <td>-0.017439</td>\n",
       "      <td>0.003686</td>\n",
       "      <td>0.007054</td>\n",
       "      <td>-0.011987</td>\n",
       "      <td>-0.133422</td>\n",
       "      <td>0.018239</td>\n",
       "      <td>-0.011643</td>\n",
       "      <td>0.023106</td>\n",
       "      <td>-0.010461</td>\n",
       "      <td>-0.007459</td>\n",
       "      <td>-0.005233</td>\n",
       "      <td>0.019919</td>\n",
       "      <td>-0.001332</td>\n",
       "      <td>-0.138807</td>\n",
       "    </tr>\n",
       "    <tr>\n",
       "      <th>price</th>\n",
       "      <td>-0.017439</td>\n",
       "      <td>1.000000</td>\n",
       "      <td>0.309651</td>\n",
       "      <td>0.527350</td>\n",
       "      <td>0.704652</td>\n",
       "      <td>0.087005</td>\n",
       "      <td>0.258277</td>\n",
       "      <td>0.609168</td>\n",
       "      <td>0.053525</td>\n",
       "      <td>0.122590</td>\n",
       "      <td>-0.050212</td>\n",
       "      <td>0.305126</td>\n",
       "      <td>0.021390</td>\n",
       "      <td>0.582167</td>\n",
       "      <td>0.081243</td>\n",
       "    </tr>\n",
       "    <tr>\n",
       "      <th>bedrooms</th>\n",
       "      <td>0.003686</td>\n",
       "      <td>0.309651</td>\n",
       "      <td>1.000000</td>\n",
       "      <td>0.516188</td>\n",
       "      <td>0.578211</td>\n",
       "      <td>0.029407</td>\n",
       "      <td>0.182396</td>\n",
       "      <td>0.480593</td>\n",
       "      <td>0.157512</td>\n",
       "      <td>0.017530</td>\n",
       "      <td>-0.151824</td>\n",
       "      <td>-0.010699</td>\n",
       "      <td>0.131640</td>\n",
       "      <td>0.393108</td>\n",
       "      <td>0.027737</td>\n",
       "    </tr>\n",
       "    <tr>\n",
       "      <th>bathrooms</th>\n",
       "      <td>0.007054</td>\n",
       "      <td>0.527350</td>\n",
       "      <td>0.516188</td>\n",
       "      <td>1.000000</td>\n",
       "      <td>0.756341</td>\n",
       "      <td>0.085094</td>\n",
       "      <td>0.506214</td>\n",
       "      <td>0.688040</td>\n",
       "      <td>0.507014</td>\n",
       "      <td>0.047328</td>\n",
       "      <td>-0.202160</td>\n",
       "      <td>0.025934</td>\n",
       "      <td>0.223566</td>\n",
       "      <td>0.570061</td>\n",
       "      <td>0.085891</td>\n",
       "    </tr>\n",
       "    <tr>\n",
       "      <th>sqft_living</th>\n",
       "      <td>-0.011987</td>\n",
       "      <td>0.704652</td>\n",
       "      <td>0.578211</td>\n",
       "      <td>0.756341</td>\n",
       "      <td>1.000000</td>\n",
       "      <td>0.173345</td>\n",
       "      <td>0.357184</td>\n",
       "      <td>0.877527</td>\n",
       "      <td>0.317443</td>\n",
       "      <td>0.050515</td>\n",
       "      <td>-0.196395</td>\n",
       "      <td>0.053939</td>\n",
       "      <td>0.239177</td>\n",
       "      <td>0.755647</td>\n",
       "      <td>0.182749</td>\n",
       "    </tr>\n",
       "    <tr>\n",
       "      <th>sqft_lot</th>\n",
       "      <td>-0.133422</td>\n",
       "      <td>0.087005</td>\n",
       "      <td>0.029407</td>\n",
       "      <td>0.085094</td>\n",
       "      <td>0.173345</td>\n",
       "      <td>1.000000</td>\n",
       "      <td>-0.007246</td>\n",
       "      <td>0.184229</td>\n",
       "      <td>0.055873</td>\n",
       "      <td>0.001981</td>\n",
       "      <td>-0.129722</td>\n",
       "      <td>-0.085789</td>\n",
       "      <td>0.229989</td>\n",
       "      <td>0.146238</td>\n",
       "      <td>0.723061</td>\n",
       "    </tr>\n",
       "    <tr>\n",
       "      <th>floors</th>\n",
       "      <td>0.018239</td>\n",
       "      <td>0.258277</td>\n",
       "      <td>0.182396</td>\n",
       "      <td>0.506214</td>\n",
       "      <td>0.357184</td>\n",
       "      <td>-0.007246</td>\n",
       "      <td>1.000000</td>\n",
       "      <td>0.525601</td>\n",
       "      <td>0.490252</td>\n",
       "      <td>-0.000059</td>\n",
       "      <td>-0.058892</td>\n",
       "      <td>0.051345</td>\n",
       "      <td>0.127844</td>\n",
       "      <td>0.280921</td>\n",
       "      <td>-0.010994</td>\n",
       "    </tr>\n",
       "    <tr>\n",
       "      <th>sqft_above</th>\n",
       "      <td>-0.011643</td>\n",
       "      <td>0.609168</td>\n",
       "      <td>0.480593</td>\n",
       "      <td>0.688040</td>\n",
       "      <td>0.877527</td>\n",
       "      <td>0.184229</td>\n",
       "      <td>0.525601</td>\n",
       "      <td>1.000000</td>\n",
       "      <td>0.421831</td>\n",
       "      <td>0.019450</td>\n",
       "      <td>-0.258494</td>\n",
       "      <td>0.003035</td>\n",
       "      <td>0.342406</td>\n",
       "      <td>0.733084</td>\n",
       "      <td>0.192293</td>\n",
       "    </tr>\n",
       "    <tr>\n",
       "      <th>yr_built</th>\n",
       "      <td>0.023106</td>\n",
       "      <td>0.053525</td>\n",
       "      <td>0.157512</td>\n",
       "      <td>0.507014</td>\n",
       "      <td>0.317443</td>\n",
       "      <td>0.055873</td>\n",
       "      <td>0.490252</td>\n",
       "      <td>0.421831</td>\n",
       "      <td>1.000000</td>\n",
       "      <td>-0.223718</td>\n",
       "      <td>-0.346035</td>\n",
       "      <td>-0.147243</td>\n",
       "      <td>0.409877</td>\n",
       "      <td>0.325704</td>\n",
       "      <td>0.070911</td>\n",
       "    </tr>\n",
       "    <tr>\n",
       "      <th>yr_renovated</th>\n",
       "      <td>-0.010461</td>\n",
       "      <td>0.122590</td>\n",
       "      <td>0.017530</td>\n",
       "      <td>0.047328</td>\n",
       "      <td>0.050515</td>\n",
       "      <td>0.001981</td>\n",
       "      <td>-0.000059</td>\n",
       "      <td>0.019450</td>\n",
       "      <td>-0.223718</td>\n",
       "      <td>1.000000</td>\n",
       "      <td>0.068425</td>\n",
       "      <td>0.032325</td>\n",
       "      <td>-0.070709</td>\n",
       "      <td>-0.005146</td>\n",
       "      <td>0.002324</td>\n",
       "    </tr>\n",
       "    <tr>\n",
       "      <th>zipcode</th>\n",
       "      <td>-0.007459</td>\n",
       "      <td>-0.050212</td>\n",
       "      <td>-0.151824</td>\n",
       "      <td>-0.202160</td>\n",
       "      <td>-0.196395</td>\n",
       "      <td>-0.129722</td>\n",
       "      <td>-0.058892</td>\n",
       "      <td>-0.258494</td>\n",
       "      <td>-0.346035</td>\n",
       "      <td>0.068425</td>\n",
       "      <td>1.000000</td>\n",
       "      <td>0.271975</td>\n",
       "      <td>-0.562448</td>\n",
       "      <td>-0.278213</td>\n",
       "      <td>-0.146145</td>\n",
       "    </tr>\n",
       "    <tr>\n",
       "      <th>lat</th>\n",
       "      <td>-0.005233</td>\n",
       "      <td>0.305126</td>\n",
       "      <td>-0.010699</td>\n",
       "      <td>0.025934</td>\n",
       "      <td>0.053939</td>\n",
       "      <td>-0.085789</td>\n",
       "      <td>0.051345</td>\n",
       "      <td>0.003035</td>\n",
       "      <td>-0.147243</td>\n",
       "      <td>0.032325</td>\n",
       "      <td>0.271975</td>\n",
       "      <td>1.000000</td>\n",
       "      <td>-0.135704</td>\n",
       "      <td>0.048617</td>\n",
       "      <td>-0.083611</td>\n",
       "    </tr>\n",
       "    <tr>\n",
       "      <th>long</th>\n",
       "      <td>0.019919</td>\n",
       "      <td>0.021390</td>\n",
       "      <td>0.131640</td>\n",
       "      <td>0.223566</td>\n",
       "      <td>0.239177</td>\n",
       "      <td>0.229989</td>\n",
       "      <td>0.127844</td>\n",
       "      <td>0.342406</td>\n",
       "      <td>0.409877</td>\n",
       "      <td>-0.070709</td>\n",
       "      <td>-0.562448</td>\n",
       "      <td>-0.135704</td>\n",
       "      <td>1.000000</td>\n",
       "      <td>0.336617</td>\n",
       "      <td>0.254411</td>\n",
       "    </tr>\n",
       "    <tr>\n",
       "      <th>sqft_living15</th>\n",
       "      <td>-0.001332</td>\n",
       "      <td>0.582167</td>\n",
       "      <td>0.393108</td>\n",
       "      <td>0.570061</td>\n",
       "      <td>0.755647</td>\n",
       "      <td>0.146238</td>\n",
       "      <td>0.280921</td>\n",
       "      <td>0.733084</td>\n",
       "      <td>0.325704</td>\n",
       "      <td>-0.005146</td>\n",
       "      <td>-0.278213</td>\n",
       "      <td>0.048617</td>\n",
       "      <td>0.336617</td>\n",
       "      <td>1.000000</td>\n",
       "      <td>0.183662</td>\n",
       "    </tr>\n",
       "    <tr>\n",
       "      <th>sqft_lot15</th>\n",
       "      <td>-0.138807</td>\n",
       "      <td>0.081243</td>\n",
       "      <td>0.027737</td>\n",
       "      <td>0.085891</td>\n",
       "      <td>0.182749</td>\n",
       "      <td>0.723061</td>\n",
       "      <td>-0.010994</td>\n",
       "      <td>0.192293</td>\n",
       "      <td>0.070911</td>\n",
       "      <td>0.002324</td>\n",
       "      <td>-0.146145</td>\n",
       "      <td>-0.083611</td>\n",
       "      <td>0.254411</td>\n",
       "      <td>0.183662</td>\n",
       "      <td>1.000000</td>\n",
       "    </tr>\n",
       "  </tbody>\n",
       "</table>\n",
       "</div>"
      ],
      "text/plain": [
       "                     id     price  bedrooms  bathrooms  sqft_living  sqft_lot  \\\n",
       "id             1.000000 -0.017439  0.003686   0.007054    -0.011987 -0.133422   \n",
       "price         -0.017439  1.000000  0.309651   0.527350     0.704652  0.087005   \n",
       "bedrooms       0.003686  0.309651  1.000000   0.516188     0.578211  0.029407   \n",
       "bathrooms      0.007054  0.527350  0.516188   1.000000     0.756341  0.085094   \n",
       "sqft_living   -0.011987  0.704652  0.578211   0.756341     1.000000  0.173345   \n",
       "sqft_lot      -0.133422  0.087005  0.029407   0.085094     0.173345  1.000000   \n",
       "floors         0.018239  0.258277  0.182396   0.506214     0.357184 -0.007246   \n",
       "sqft_above    -0.011643  0.609168  0.480593   0.688040     0.877527  0.184229   \n",
       "yr_built       0.023106  0.053525  0.157512   0.507014     0.317443  0.055873   \n",
       "yr_renovated  -0.010461  0.122590  0.017530   0.047328     0.050515  0.001981   \n",
       "zipcode       -0.007459 -0.050212 -0.151824  -0.202160    -0.196395 -0.129722   \n",
       "lat           -0.005233  0.305126 -0.010699   0.025934     0.053939 -0.085789   \n",
       "long           0.019919  0.021390  0.131640   0.223566     0.239177  0.229989   \n",
       "sqft_living15 -0.001332  0.582167  0.393108   0.570061     0.755647  0.146238   \n",
       "sqft_lot15    -0.138807  0.081243  0.027737   0.085891     0.182749  0.723061   \n",
       "\n",
       "                 floors  sqft_above  yr_built  yr_renovated   zipcode  \\\n",
       "id             0.018239   -0.011643  0.023106     -0.010461 -0.007459   \n",
       "price          0.258277    0.609168  0.053525      0.122590 -0.050212   \n",
       "bedrooms       0.182396    0.480593  0.157512      0.017530 -0.151824   \n",
       "bathrooms      0.506214    0.688040  0.507014      0.047328 -0.202160   \n",
       "sqft_living    0.357184    0.877527  0.317443      0.050515 -0.196395   \n",
       "sqft_lot      -0.007246    0.184229  0.055873      0.001981 -0.129722   \n",
       "floors         1.000000    0.525601  0.490252     -0.000059 -0.058892   \n",
       "sqft_above     0.525601    1.000000  0.421831      0.019450 -0.258494   \n",
       "yr_built       0.490252    0.421831  1.000000     -0.223718 -0.346035   \n",
       "yr_renovated  -0.000059    0.019450 -0.223718      1.000000  0.068425   \n",
       "zipcode       -0.058892   -0.258494 -0.346035      0.068425  1.000000   \n",
       "lat            0.051345    0.003035 -0.147243      0.032325  0.271975   \n",
       "long           0.127844    0.342406  0.409877     -0.070709 -0.562448   \n",
       "sqft_living15  0.280921    0.733084  0.325704     -0.005146 -0.278213   \n",
       "sqft_lot15    -0.010994    0.192293  0.070911      0.002324 -0.146145   \n",
       "\n",
       "                    lat      long  sqft_living15  sqft_lot15  \n",
       "id            -0.005233  0.019919      -0.001332   -0.138807  \n",
       "price          0.305126  0.021390       0.582167    0.081243  \n",
       "bedrooms      -0.010699  0.131640       0.393108    0.027737  \n",
       "bathrooms      0.025934  0.223566       0.570061    0.085891  \n",
       "sqft_living    0.053939  0.239177       0.755647    0.182749  \n",
       "sqft_lot      -0.085789  0.229989       0.146238    0.723061  \n",
       "floors         0.051345  0.127844       0.280921   -0.010994  \n",
       "sqft_above     0.003035  0.342406       0.733084    0.192293  \n",
       "yr_built      -0.147243  0.409877       0.325704    0.070911  \n",
       "yr_renovated   0.032325 -0.070709      -0.005146    0.002324  \n",
       "zipcode        0.271975 -0.562448      -0.278213   -0.146145  \n",
       "lat            1.000000 -0.135704       0.048617   -0.083611  \n",
       "long          -0.135704  1.000000       0.336617    0.254411  \n",
       "sqft_living15  0.048617  0.336617       1.000000    0.183662  \n",
       "sqft_lot15    -0.083611  0.254411       0.183662    1.000000  "
      ]
     },
     "execution_count": 890,
     "metadata": {},
     "output_type": "execute_result"
    }
   ],
   "source": [
    "house_data.corr()"
   ]
  },
  {
   "cell_type": "code",
   "execution_count": 891,
   "metadata": {},
   "outputs": [],
   "source": [
    "# house_data.yr_renovated.value_counts()"
   ]
  },
  {
   "cell_type": "code",
   "execution_count": 892,
   "metadata": {},
   "outputs": [],
   "source": [
    "# # ord_cat_selector = ['condition', 'grade', 'view'] # ----original\n",
    "# ord_cat_selector = ['grade', 'view'] # ----for testing\n",
    "\n",
    "\n",
    "\n",
    "# cat_subset = test_data[ord_cat_selector]\n",
    "# cat_subset\n",
    "\n",
    "# # ordered_condition = ['Poor', 'Fair', 'Average', 'Good', 'Very Good'] #---- for testing\n",
    "# ordered_grade = ['4 Low', '5 Fair', '6 Low Average', '7 Average','8 Good',\n",
    "#                  '9 Better', '10 Very Good', '11 Excellent','12 Luxury', \n",
    "#                  '13 Mansion']\n",
    "# ordered_view = ['NONE', 'AVERAGE', 'GOOD', 'FAIR', 'EXCELLENT']\n",
    "\n",
    "# o_enc = OrdinalEncoder(categories = [ordered_grade, ordered_view]) # --- original\n",
    "\n",
    "# o_enc.fit(cat_subset)\n",
    "\n",
    "# X_subset = pd.DataFrame(o_enc.transform(cat_subset),\n",
    "#                         columns = cat_subset.columns)\n",
    "# # X_subset.shape"
   ]
  },
  {
   "cell_type": "code",
   "execution_count": 893,
   "metadata": {
    "scrolled": true
   },
   "outputs": [
    {
     "data": {
      "text/plain": [
       "0.4    8838\n",
       "0.5    6012\n",
       "0.6    2589\n",
       "0.3    1987\n",
       "0.7    1120\n",
       "0.8     389\n",
       "0.2     234\n",
       "0.9      85\n",
       "0.1      27\n",
       "1.0      13\n",
       "Name: grade, dtype: int64"
      ]
     },
     "execution_count": 893,
     "metadata": {},
     "output_type": "execute_result"
    }
   ],
   "source": [
    "# Replace all conditions with floats 0.0 - 1.0\n",
    "\n",
    "test_data.condition.replace({'Poor':0.2, 'Fair': 0.4, 'Average':0.6, 'Good':0.8, 'Very Good': 1.0}, inplace = True)\n",
    "# test_data.condition\n",
    "\n",
    "test_data.grade.replace({'4 Low': 0.1, '5 Fair':0.2, '6 Low Average':0.3, '7 Average':0.4,'8 Good':0.5,\n",
    "                 '9 Better':0.6, '10 Very Good':0.7, '11 Excellent':0.8,'12 Luxury':0.9, \n",
    "                 '13 Mansion':1.0}, inplace = True)\n",
    "\n",
    "test_data.grade.value_counts()"
   ]
  },
  {
   "cell_type": "code",
   "execution_count": 894,
   "metadata": {},
   "outputs": [],
   "source": [
    "df = test_data\n",
    "conditions = [\n",
    "    np.logical_and(df['yr_built'].ge(1900), pd.Series.lt(df['yr_built'], 1909)),\n",
    "    np.logical_and(df['yr_built'].ge(1910), pd.Series.lt(df['yr_built'], 1919)),\n",
    "    np.logical_and(df['yr_built'].ge(1920), pd.Series.lt(df['yr_built'], 1929)),\n",
    "    np.logical_and(df['yr_built'].ge(1930), pd.Series.lt(df['yr_built'], 1939)),\n",
    "    np.logical_and(df['yr_built'].ge(1940), pd.Series.lt(df['yr_built'], 1949)),\n",
    "    np.logical_and(df['yr_built'].ge(1950), pd.Series.lt(df['yr_built'], 1959)),\n",
    "    np.logical_and(df['yr_built'].ge(1960), pd.Series.lt(df['yr_built'], 1969)),\n",
    "    np.logical_and(df['yr_built'].ge(1970), pd.Series.lt(df['yr_built'], 1979)),\n",
    "    np.logical_and(df['yr_built'].ge(1980), pd.Series.lt(df['yr_built'], 1989)),\n",
    "    np.logical_and(df['yr_built'].ge(1990), pd.Series.lt(df['yr_built'], 1999)),\n",
    "    np.logical_and(df['yr_built'].ge(2000), pd.Series.lt(df['yr_built'], 2009)),\n",
    "    np.logical_and(df['yr_built'].ge(2010), pd.Series.lt(df['yr_built'], 2019)),\n",
    "]\n",
    "\n",
    "outputs = [1900, 1910, 1920, 1930, 1940, 1950, 1960, 1970, 1980, 1990, 2000, 2010]\n",
    "\n",
    "test_data['decadeBuilt'] = pd.Series(np.select(conditions,  outputs))\n",
    "test_data['decadeBuilt'].value_counts()"
   ]
  },
  {
   "cell_type": "code",
   "execution_count": 895,
   "metadata": {
    "scrolled": true
   },
   "outputs": [],
   "source": [
    "# test_data.yr_built.value_counts()"
   ]
  },
  {
   "cell_type": "code",
   "execution_count": 896,
   "metadata": {
    "scrolled": true
   },
   "outputs": [],
   "source": [
    "# test_data.corr()"
   ]
  },
  {
   "cell_type": "code",
   "execution_count": 897,
   "metadata": {
    "scrolled": true
   },
   "outputs": [],
   "source": [
    "# x = test_data.sqft_living\n",
    "# # generate data\n",
    "# y = test_data.grade\n",
    "# plt.plot(x, y, 'o')\n",
    "# # create scatter plot\n",
    "\n",
    "# m, b = np.polyfit(x, y, 1)\n",
    "# # m = slope, b=intercept\n",
    "\n",
    "# plt.plot(x, m*x + b)"
   ]
  },
  {
   "cell_type": "code",
   "execution_count": 898,
   "metadata": {
    "scrolled": true
   },
   "outputs": [],
   "source": [
    "# x = test_data.price\n",
    "# # generate data\n",
    "# y = test_data.grade\n",
    "# plt.plot(x, y, 'o')\n",
    "# # create scatter plot\n",
    "\n",
    "# m, b = np.polyfit(x, y, 1)\n",
    "# # m = slope, b=intercept\n",
    "\n",
    "# plt.plot(x, m*x + b)"
   ]
  },
  {
   "cell_type": "code",
   "execution_count": 899,
   "metadata": {},
   "outputs": [],
   "source": [
    "# x = test_data.price\n",
    "# # generate data\n",
    "# y = test_data.sqft_living\n",
    "# plt.plot(x, y, 'o')\n",
    "# # create scatter plot\n",
    "\n",
    "# m, b = np.polyfit(x, y, 1)\n",
    "# # m = slope, b=intercept\n",
    "\n",
    "# plt.plot(x, m*x + b)"
   ]
  },
  {
   "cell_type": "code",
   "execution_count": 900,
   "metadata": {},
   "outputs": [],
   "source": [
    "formula1 = 'price ~ grade'\n",
    "model = ols(formula=formula1, data= test_data).fit()\n",
    "# model.summary()"
   ]
  },
  {
   "cell_type": "code",
   "execution_count": 901,
   "metadata": {},
   "outputs": [],
   "source": [
    "# test_data['sqft_living'] = test_data['sqft_living'].map(lambda x: np.log(x)) \n",
    "\n",
    "\n",
    "# outcome = test_data.condition\n",
    "# x_cols = [test_data.yr_built]\n",
    "# predictors = '+'.join(x_cols)\n",
    "# formula = 'grade ~ price + condition + yr_built' # --- r2 = 0.650 ---- w/0 condition = 0.649\n",
    "formula = 'grade ~ price + yr_built + sqft_living + bedrooms+ floors'\n",
    "model = ols(formula=formula, data= test_data).fit()\n",
    "# model.summary()"
   ]
  },
  {
   "cell_type": "code",
   "execution_count": 902,
   "metadata": {},
   "outputs": [],
   "source": [
    "# formula = 'price ~ grade + yr_built + sqft_living + bedrooms+ floors + condition' # -- 0.629\n",
    "formula = 'price ~ grade + sqft_living + bathrooms + floors + yr_built + zipcode'\n",
    "\n",
    "\n",
    "model = ols(formula=formula, data= test_data).fit()\n",
    "# model.summary()"
   ]
  },
  {
   "cell_type": "code",
   "execution_count": 903,
   "metadata": {},
   "outputs": [
    {
     "data": {
      "text/plain": [
       "(21294, 1)"
      ]
     },
     "execution_count": 903,
     "metadata": {},
     "output_type": "execute_result"
    }
   ],
   "source": [
    "# ord_cat_selector = ['condition', 'grade', 'view'] # ----original\n",
    "ord_cat_selector = ['view'] # ----for testing\n",
    "\n",
    "\n",
    "\n",
    "cat_subset = test_data[ord_cat_selector]\n",
    "cat_subset\n",
    "\n",
    "# ordered_condition = ['Poor', 'Fair', 'Average', 'Good', 'Very Good'] #---- for testing\n",
    "ordered_grade = ['4 Low', '5 Fair', '6 Low Average', '7 Average','8 Good',\n",
    "                 '9 Better', '10 Very Good', '11 Excellent','12 Luxury', \n",
    "                 '13 Mansion']\n",
    "ordered_view = ['NONE', 'AVERAGE', 'GOOD', 'FAIR', 'EXCELLENT']\n",
    "\n",
    "o_enc = OrdinalEncoder(categories = [ordered_view]) # --- original\n",
    "\n",
    "o_enc.fit(cat_subset)\n",
    "\n",
    "X_subset = pd.DataFrame(o_enc.transform(cat_subset),\n",
    "                        columns = cat_subset.columns)\n",
    "X_subset.shape"
   ]
  },
  {
   "cell_type": "code",
   "execution_count": 904,
   "metadata": {},
   "outputs": [],
   "source": [
    "# # should remove yr_built\n",
    "#original predictor ---- R Score =  0.854\n",
    "# nom_features = ['grade', 'bathrooms', 'sqft_living', 'floors', 'yr_built', 'price', 'condition', 'lat'] #original\n",
    "# nom_features = ['bathrooms', 'sqft_living', 'price'] # ---TEST\n",
    "\n",
    "\n",
    "\n",
    "# dum_zipcode = pd.get_dummies(test_data['zipcode'], prefix = 'zip', drop_first = True)\n",
    "# dum_year = pd.get_dummies(test_data['yr_built'], prefix = 'year', drop_first = True)\n",
    "\n",
    "# X_p = pd.concat([test_data[nom_features], X_subset,  dum_year, dum_zipcode],join = 'inner', axis = 1) \n",
    "\n",
    "\n",
    "# X = X_p.drop(columns = 'price')\n",
    "# y = X_p['price']\n",
    "\n",
    "# X_train_p, X_test_p, y_train_p, y_test_p = train_test_split(X, y, test_size=0.3, random_state = 1)\n",
    "# ^^^^^^^^^^^^^^^^^^^^^^^^^^^^^^^^^^^^^^^^^^^^^^^^^^^^^^^^^^^^^^^^^^^^^^^^^^^^^\n",
    "nom_features = ['bathrooms', 'sqft_living', 'price'] # ---TEST\n",
    "\n",
    "\n",
    "\n",
    "dum_zipcode = pd.get_dummies(test_data['zipcode'], prefix = 'zip', drop_first = True)\n",
    "dum_year = pd.get_dummies(test_data['yr_built'], prefix = 'year', drop_first = True)\n",
    "\n",
    "X_p = pd.concat([test_data[nom_features], dum_zipcode],join = 'inner', axis = 1) \n",
    "\n",
    "\n",
    "X = X_p.drop(columns = 'price')\n",
    "y = X_p['price']\n",
    "\n",
    "X_train_p, X_test_p, y_train_p, y_test_p = train_test_split(X, y, test_size=0.3, random_state = 1)"
   ]
  },
  {
   "cell_type": "code",
   "execution_count": 905,
   "metadata": {
    "scrolled": true
   },
   "outputs": [
    {
     "name": "stdout",
     "output_type": "stream",
     "text": [
      "R Score =  0.8256178712629211 \n",
      "MAE =  0.1591132164647351 \n",
      "RMSE =  0.21696062078984246 \n",
      "First five predicted values :  [12.36677964 12.63138331 13.17471689 13.19713302 12.08035436]\n"
     ]
    }
   ],
   "source": [
    "lr_p = LinearRegression()\n",
    "lr_p.fit(X_train_p, y_train_p)\n",
    "y_pred_p = lr_p.predict(X_test_p)\n",
    "R_p = lr_p.score(X_train_p, y_train_p)\n",
    "MAE_p = mean_absolute_error(y_pred_p, y_test_p)\n",
    "RMSE_p = np.sqrt(mean_squared_error(y_pred_p, y_test_p))\n",
    "print('R Score = ', R_p, '\\n' 'MAE = ', MAE_p, '\\n' 'RMSE = ', RMSE_p, '\\n' 'First five predicted values : ', y_pred_p[0:5])"
   ]
  },
  {
   "cell_type": "code",
   "execution_count": 906,
   "metadata": {},
   "outputs": [
    {
     "data": {
      "image/png": "[encoded data removed]",
      "text/plain": [
       "<Figure size 576x432 with 1 Axes>"
      ]
     },
     "metadata": {
      "needs_background": "light"
     },
     "output_type": "display_data"
    }
   ],
   "source": [
    "plt.figure(figsize=(8,6))\n",
    "plt.hist(y_test_p, bins=100, alpha=0.4, label=\"Real\")\n",
    "plt.hist(y_pred_p, bins=100, alpha=0.5, label=\"Predicted\")\n",
    "plt.xlabel(\"Price Distribution\", size=14)\n",
    "plt.ylabel(\"Counts\", size=14)\n",
    "plt.title(\"Real Vs. Predicted Home Price\")\n",
    "plt.legend(loc='upper right');"
   ]
  },
  {
   "cell_type": "code",
   "execution_count": 961,
   "metadata": {},
   "outputs": [],
   "source": [
    "X2 = sm.add_constant(X)\n",
    "_1  = sm.OLS(y, X2)\n",
    "_2  = _1.fit()\n",
    "\n",
    "# print(_2.summary())"
   ]
  },
  {
   "cell_type": "code",
   "execution_count": 908,
   "metadata": {},
   "outputs": [
    {
     "data": {
      "text/plain": [
       "0       12.366780\n",
       "1       12.631383\n",
       "2       13.174717\n",
       "3       13.197133\n",
       "4       12.080354\n",
       "          ...    \n",
       "6384    12.770843\n",
       "6385    13.603394\n",
       "6386    12.430433\n",
       "6387    13.170119\n",
       "6388    13.073601\n",
       "Name: p_price, Length: 6389, dtype: float64"
      ]
     },
     "execution_count": 908,
     "metadata": {},
     "output_type": "execute_result"
    }
   ],
   "source": [
    "y_pred_p = pd.Series(y_pred_p, name = 'p_price')\n",
    "type(y_pred_p)\n",
    "len(y_pred_p)\n",
    "type(X_)\n",
    "\n",
    "y_pred_p"
   ]
  },
  {
   "cell_type": "code",
   "execution_count": 909,
   "metadata": {},
   "outputs": [],
   "source": [
    "# #should remove yr_built\n",
    "nom_features = ['bedrooms', 'bathrooms', 'sqft_living', 'floors',\n",
    "                 'grade'] #test--- R Score =  0.731\n",
    "\n",
    "\n",
    "dum_zipcode = pd.get_dummies(test_data['zipcode'], prefix = 'zip', drop_first = True)\n",
    "dum_year = pd.get_dummies(test_data['yr_built'], prefix = 'year', drop_first = True)\n",
    "\n",
    "X_ = pd.concat([test_data[nom_features],y_pred_p, X_subset, dum_year, dum_zipcode],\n",
    "               join = 'inner', axis = 1) #-- original --- Good\n",
    "\n",
    "# X_ = pd.concat([test_data[nom_features], X_subset, dum_year, dum_zipcode],\n",
    "#                join = 'inner', axis = 1) #-- test\n",
    "\n",
    "# X_.drop(df.index[:1], inplace=True)\n",
    "# X_ = pd.concat(X_, y_pred_p, join = 'inner', axis = 1\n",
    "# # TEST\n",
    "               \n",
    "X = X_.drop(columns = 'grade')\n",
    "y = X_['grade']\n",
    "X_train, X_test, y_train, y_test = train_test_split(X, y, test_size=0.3, random_state = 1)\n",
    "\n",
    "# print(X.head(), X_.head(), y_pred_p)\n",
    "# print(X_.bathrooms)\n",
    "# print(X.head(),y_pred_p, test_data[nom_features].loc[6346:6350, :])\n",
    "# print(X_.columns)\n",
    "# print(X_[['p_price', 'price']])"
   ]
  },
  {
   "cell_type": "code",
   "execution_count": 911,
   "metadata": {},
   "outputs": [],
   "source": [
    "# lr = LinearRegression()\n",
    "# lr.fit(X_train, y_train)\n",
    "# R = lr.score(X_train, y_train)\n",
    "# MAE = mean_absolute_error(y_pred, y_test)\n",
    "# RMSE = np.sqrt(mean_squared_error(y_pred, y_test))\n",
    "# y_pred = lr.predict(X_test)\n",
    "# COEF = lr.coef_\n",
    "# print('R Score = ', R, '\\n' 'MAE = ', MAE, '\\n' 'RMSE = ', RMSE, \n",
    "#       '\\n' 'First five predicted values : ', y_pred[0:5], '\\n', COEF)"
   ]
  },
  {
   "cell_type": "code",
   "execution_count": 913,
   "metadata": {},
   "outputs": [],
   "source": [
    "# y_test.value_counts()\n",
    "# len(y_test) #ten unique 0-1 -len 1894\n",
    "# y_test.value_counts()"
   ]
  },
  {
   "cell_type": "code",
   "execution_count": 914,
   "metadata": {},
   "outputs": [],
   "source": [
    "y_pred= pd.Series(y_pred, name = 'p_grade')\n",
    "# y_pred.value_counts() #problem is that theyre all unique - y_test has 10 unique - len 1894"
   ]
  },
  {
   "cell_type": "code",
   "execution_count": 915,
   "metadata": {},
   "outputs": [],
   "source": [
    "# plt.figure(figsize=(8,6))\n",
    "# plt.hist(y_test, bins=100, alpha=0.2, label=\"Real\")\n",
    "# plt.hist(y_pred, bins=100, alpha=0.5, label=\"Predicted\")\n",
    "# plt.xlabel(\"Data\", size=14)\n",
    "# plt.ylabel(\"Count\", size=14)\n",
    "# plt.title(\"Predicted Vs. Actual\")\n",
    "# plt.legend(loc='upper right');\n",
    "\n",
    "# plt.figure(figsize=(8,6))\n",
    "# plt.hist(np.exp(y_test), bins=100, alpha=0.5, label=\"Real\")\n",
    "# plt.hist(np.exp(y_pred), bins=100, alpha=0.2, label=\"Predicted\")\n",
    "# plt.xlabel(\"Data\", size=14)\n",
    "# plt.ylabel(\"Count\", size=14)\n",
    "# plt.title(\"Predicted Vs. Actual\")\n",
    "# plt.legend(loc='upper right');\n",
    "\n",
    "# **** Below is good \n",
    "\n",
    "\n",
    "# plt.figure(figsize=(8,6))\n",
    "# plt.hist(y_test, bins=100, alpha=0.2, label=\"Real\")\n",
    "# plt.hist(np.round(y_pred, decimals = 1), bins=100, alpha=0.5, label=\"Predicted\")\n",
    "# plt.xlabel(\"Data\", size=14)\n",
    "# plt.ylabel(\"Count\", size=14)\n",
    "# plt.title(\"Predicted Vs. Actual\")\n",
    "# plt.legend(loc='upper right');\n",
    "\n",
    "# plt.figure(figsize=(8,6))\n",
    "# plt.hist(np.exp(y_test), bins=100, alpha=0.5, label=\"Real\")\n",
    "# plt.hist(np.exp(y_pred), bins=100, alpha=0.2, label=\"Predicted\")\n",
    "# plt.xlabel(\"Data\", size=14)\n",
    "# plt.ylabel(\"Count\", size=14)\n",
    "# plt.title(\"Predicted Vs. Actual\")\n",
    "# plt.legend(loc='upper right');"
   ]
  },
  {
   "cell_type": "code",
   "execution_count": 916,
   "metadata": {},
   "outputs": [
    {
     "name": "stderr",
     "output_type": "stream",
     "text": [
      "/Users/austinboring/opt/anaconda3/envs/learn-env/lib/python3.8/site-packages/seaborn/_decorators.py:36: FutureWarning: Pass the following variables as keyword args: x, y. From version 0.12, the only valid positional argument will be `data`, and passing other arguments without an explicit keyword will result in an error or misinterpretation.\n",
      "  warnings.warn(\n"
     ]
    },
    {
     "data": {
      "text/plain": [
       "<AxesSubplot:xlabel='bedrooms', ylabel='price'>"
      ]
     },
     "execution_count": 916,
     "metadata": {},
     "output_type": "execute_result"
    },
    {
     "data": {
      "image/png": "[encoded data removed]",
      "text/plain": [
       "<Figure size 432x288 with 1 Axes>"
      ]
     },
     "metadata": {
      "needs_background": "light"
     },
     "output_type": "display_data"
    }
   ],
   "source": [
    "x_vari = np.array(range(len(y_test)))\n",
    "\n",
    "# plt.scatter(x_vari, y_test, s = 0.5, c='coral')\n",
    "# m, b = np.polyfit(x_vari, y_test, 1)\n",
    "# plt.plot(x_vari, m*x_vari + b)\n",
    "\n",
    "# plt.scatter(x_vari, y_pred, s = 0.5, c='lightblue')\n",
    "\n",
    "# plt.title('Actual Vs. Predicted')\n",
    "# plt.xlabel('Count')\n",
    "# plt.ylabel('Price')\n",
    "# plt.show()\n",
    "\n",
    "# plt.scatter(y_test, y_pred, s = 1, c='lightblue')\n",
    "\n",
    "# plt.title('Actual Vs. Predicted')\n",
    "# plt.xlabel('Count')\n",
    "# plt.ylabel('Price')\n",
    "# plt.show()\n",
    "\n",
    "sns.regplot(test_data.bedrooms,test_data.price, fit_reg = True)"
   ]
  },
  {
   "cell_type": "code",
   "execution_count": 950,
   "metadata": {},
   "outputs": [
    {
     "name": "stderr",
     "output_type": "stream",
     "text": [
      "/Users/austinboring/opt/anaconda3/envs/learn-env/lib/python3.8/site-packages/seaborn/_decorators.py:36: FutureWarning: Pass the following variables as keyword args: x, y. From version 0.12, the only valid positional argument will be `data`, and passing other arguments without an explicit keyword will result in an error or misinterpretation.\n",
      "  warnings.warn(\n"
     ]
    },
    {
     "data": {
      "text/plain": [
       "<AxesSubplot:xlabel='sqft_living', ylabel='price'>"
      ]
     },
     "execution_count": 950,
     "metadata": {},
     "output_type": "execute_result"
    },
    {
     "data": {
      "image/png": "[encoded data removed]",
      "text/plain": [
       "<Figure size 432x288 with 1 Axes>"
      ]
     },
     "metadata": {
      "needs_background": "light"
     },
     "output_type": "display_data"
    }
   ],
   "source": [
    "# sns.regplot(test_data.bedrooms,test_data.price, fit_reg = True)\n",
    "sns.regplot(test_data.sqft_living,test_data.price, fit_reg = True)\n",
    "# sns.regplot(test_data['yr_built'].loc[test_data.yr_built > 2000],\n",
    "#             test_data['price'].loc[test_data.yr_built > 2000], fit_reg = True)"
   ]
  },
  {
   "cell_type": "code",
   "execution_count": 948,
   "metadata": {},
   "outputs": [
    {
     "name": "stderr",
     "output_type": "stream",
     "text": [
      "/Users/austinboring/opt/anaconda3/envs/learn-env/lib/python3.8/site-packages/seaborn/_decorators.py:36: FutureWarning: Pass the following variables as keyword args: x, y. From version 0.12, the only valid positional argument will be `data`, and passing other arguments without an explicit keyword will result in an error or misinterpretation.\n",
      "  warnings.warn(\n"
     ]
    },
    {
     "data": {
      "text/plain": [
       "<AxesSubplot:xlabel='yr_built', ylabel='price'>"
      ]
     },
     "execution_count": 948,
     "metadata": {},
     "output_type": "execute_result"
    },
    {
     "data": {
      "image/png": "[encoded data removed]",
      "text/plain": [
       "<Figure size 432x288 with 1 Axes>"
      ]
     },
     "metadata": {
      "needs_background": "light"
     },
     "output_type": "display_data"
    }
   ],
   "source": [
    "sns.regplot(test_data['yr_built'].loc[test_data.yr_built > 2000],test_data['price'].loc[test_data.yr_built > 2000], fit_reg = True)"
   ]
  },
  {
   "cell_type": "code",
   "execution_count": 943,
   "metadata": {},
   "outputs": [
    {
     "data": {
      "text/html": [
       "<div>\n",
       "<style scoped>\n",
       "    .dataframe tbody tr th:only-of-type {\n",
       "        vertical-align: middle;\n",
       "    }\n",
       "\n",
       "    .dataframe tbody tr th {\n",
       "        vertical-align: top;\n",
       "    }\n",
       "\n",
       "    .dataframe thead th {\n",
       "        text-align: right;\n",
       "    }\n",
       "</style>\n",
       "<table border=\"1\" class=\"dataframe\">\n",
       "  <thead>\n",
       "    <tr style=\"text-align: right;\">\n",
       "      <th></th>\n",
       "      <th>id</th>\n",
       "      <th>bedrooms</th>\n",
       "      <th>bathrooms</th>\n",
       "      <th>sqft_living</th>\n",
       "      <th>floors</th>\n",
       "      <th>condition</th>\n",
       "      <th>grade</th>\n",
       "      <th>yr_built</th>\n",
       "      <th>zipcode</th>\n",
       "      <th>view</th>\n",
       "      <th>price</th>\n",
       "      <th>yr_renovated</th>\n",
       "      <th>decadeRen</th>\n",
       "    </tr>\n",
       "  </thead>\n",
       "  <tbody>\n",
       "    <tr>\n",
       "      <th>5</th>\n",
       "      <td>7237550310</td>\n",
       "      <td>4</td>\n",
       "      <td>4.50</td>\n",
       "      <td>5420</td>\n",
       "      <td>1.0</td>\n",
       "      <td>0.6</td>\n",
       "      <td>0.8</td>\n",
       "      <td>2001</td>\n",
       "      <td>98053</td>\n",
       "      <td>NONE</td>\n",
       "      <td>14.022525</td>\n",
       "      <td>0.0</td>\n",
       "      <td>0.0</td>\n",
       "    </tr>\n",
       "    <tr>\n",
       "      <th>9</th>\n",
       "      <td>3793500160</td>\n",
       "      <td>3</td>\n",
       "      <td>2.50</td>\n",
       "      <td>1890</td>\n",
       "      <td>2.0</td>\n",
       "      <td>0.6</td>\n",
       "      <td>0.4</td>\n",
       "      <td>2003</td>\n",
       "      <td>98038</td>\n",
       "      <td>NONE</td>\n",
       "      <td>12.685408</td>\n",
       "      <td>0.0</td>\n",
       "      <td>0.0</td>\n",
       "    </tr>\n",
       "    <tr>\n",
       "      <th>29</th>\n",
       "      <td>1873100390</td>\n",
       "      <td>4</td>\n",
       "      <td>2.50</td>\n",
       "      <td>2570</td>\n",
       "      <td>2.0</td>\n",
       "      <td>0.6</td>\n",
       "      <td>0.5</td>\n",
       "      <td>2005</td>\n",
       "      <td>98052</td>\n",
       "      <td>NONE</td>\n",
       "      <td>13.485617</td>\n",
       "      <td>0.0</td>\n",
       "      <td>0.0</td>\n",
       "    </tr>\n",
       "    <tr>\n",
       "      <th>30</th>\n",
       "      <td>8562750320</td>\n",
       "      <td>3</td>\n",
       "      <td>2.50</td>\n",
       "      <td>2320</td>\n",
       "      <td>2.0</td>\n",
       "      <td>0.6</td>\n",
       "      <td>0.5</td>\n",
       "      <td>2003</td>\n",
       "      <td>98027</td>\n",
       "      <td>NONE</td>\n",
       "      <td>13.271645</td>\n",
       "      <td>0.0</td>\n",
       "      <td>0.0</td>\n",
       "    </tr>\n",
       "    <tr>\n",
       "      <th>31</th>\n",
       "      <td>2426039314</td>\n",
       "      <td>2</td>\n",
       "      <td>1.50</td>\n",
       "      <td>1190</td>\n",
       "      <td>3.0</td>\n",
       "      <td>0.6</td>\n",
       "      <td>0.4</td>\n",
       "      <td>2005</td>\n",
       "      <td>98133</td>\n",
       "      <td>NONE</td>\n",
       "      <td>12.542545</td>\n",
       "      <td>0.0</td>\n",
       "      <td>0.0</td>\n",
       "    </tr>\n",
       "    <tr>\n",
       "      <th>...</th>\n",
       "      <td>...</td>\n",
       "      <td>...</td>\n",
       "      <td>...</td>\n",
       "      <td>...</td>\n",
       "      <td>...</td>\n",
       "      <td>...</td>\n",
       "      <td>...</td>\n",
       "      <td>...</td>\n",
       "      <td>...</td>\n",
       "      <td>...</td>\n",
       "      <td>...</td>\n",
       "      <td>...</td>\n",
       "      <td>...</td>\n",
       "    </tr>\n",
       "    <tr>\n",
       "      <th>21415</th>\n",
       "      <td>263000018</td>\n",
       "      <td>3</td>\n",
       "      <td>2.50</td>\n",
       "      <td>1530</td>\n",
       "      <td>3.0</td>\n",
       "      <td>0.6</td>\n",
       "      <td>0.5</td>\n",
       "      <td>2009</td>\n",
       "      <td>98103</td>\n",
       "      <td>NONE</td>\n",
       "      <td>12.793859</td>\n",
       "      <td>0.0</td>\n",
       "      <td>NaN</td>\n",
       "    </tr>\n",
       "    <tr>\n",
       "      <th>21416</th>\n",
       "      <td>6600060120</td>\n",
       "      <td>4</td>\n",
       "      <td>2.50</td>\n",
       "      <td>2310</td>\n",
       "      <td>2.0</td>\n",
       "      <td>0.6</td>\n",
       "      <td>0.5</td>\n",
       "      <td>2014</td>\n",
       "      <td>98146</td>\n",
       "      <td>NONE</td>\n",
       "      <td>12.899220</td>\n",
       "      <td>0.0</td>\n",
       "      <td>NaN</td>\n",
       "    </tr>\n",
       "    <tr>\n",
       "      <th>21417</th>\n",
       "      <td>1523300141</td>\n",
       "      <td>2</td>\n",
       "      <td>0.75</td>\n",
       "      <td>1020</td>\n",
       "      <td>2.0</td>\n",
       "      <td>0.6</td>\n",
       "      <td>0.4</td>\n",
       "      <td>2009</td>\n",
       "      <td>98144</td>\n",
       "      <td>NONE</td>\n",
       "      <td>12.904459</td>\n",
       "      <td>0.0</td>\n",
       "      <td>NaN</td>\n",
       "    </tr>\n",
       "    <tr>\n",
       "      <th>21418</th>\n",
       "      <td>291310100</td>\n",
       "      <td>3</td>\n",
       "      <td>2.50</td>\n",
       "      <td>1600</td>\n",
       "      <td>2.0</td>\n",
       "      <td>0.6</td>\n",
       "      <td>0.5</td>\n",
       "      <td>2004</td>\n",
       "      <td>98027</td>\n",
       "      <td>NONE</td>\n",
       "      <td>12.899220</td>\n",
       "      <td>0.0</td>\n",
       "      <td>NaN</td>\n",
       "    </tr>\n",
       "    <tr>\n",
       "      <th>21419</th>\n",
       "      <td>1523300157</td>\n",
       "      <td>2</td>\n",
       "      <td>0.75</td>\n",
       "      <td>1020</td>\n",
       "      <td>2.0</td>\n",
       "      <td>0.6</td>\n",
       "      <td>0.4</td>\n",
       "      <td>2008</td>\n",
       "      <td>98144</td>\n",
       "      <td>NONE</td>\n",
       "      <td>12.691580</td>\n",
       "      <td>0.0</td>\n",
       "      <td>NaN</td>\n",
       "    </tr>\n",
       "  </tbody>\n",
       "</table>\n",
       "<p>4509 rows × 13 columns</p>\n",
       "</div>"
      ],
      "text/plain": [
       "               id  bedrooms  bathrooms  sqft_living  floors  condition  grade  \\\n",
       "5      7237550310         4       4.50         5420     1.0        0.6    0.8   \n",
       "9      3793500160         3       2.50         1890     2.0        0.6    0.4   \n",
       "29     1873100390         4       2.50         2570     2.0        0.6    0.5   \n",
       "30     8562750320         3       2.50         2320     2.0        0.6    0.5   \n",
       "31     2426039314         2       1.50         1190     3.0        0.6    0.4   \n",
       "...           ...       ...        ...          ...     ...        ...    ...   \n",
       "21415   263000018         3       2.50         1530     3.0        0.6    0.5   \n",
       "21416  6600060120         4       2.50         2310     2.0        0.6    0.5   \n",
       "21417  1523300141         2       0.75         1020     2.0        0.6    0.4   \n",
       "21418   291310100         3       2.50         1600     2.0        0.6    0.5   \n",
       "21419  1523300157         2       0.75         1020     2.0        0.6    0.4   \n",
       "\n",
       "       yr_built  zipcode  view      price  yr_renovated  decadeRen  \n",
       "5          2001    98053  NONE  14.022525           0.0        0.0  \n",
       "9          2003    98038  NONE  12.685408           0.0        0.0  \n",
       "29         2005    98052  NONE  13.485617           0.0        0.0  \n",
       "30         2003    98027  NONE  13.271645           0.0        0.0  \n",
       "31         2005    98133  NONE  12.542545           0.0        0.0  \n",
       "...         ...      ...   ...        ...           ...        ...  \n",
       "21415      2009    98103  NONE  12.793859           0.0        NaN  \n",
       "21416      2014    98146  NONE  12.899220           0.0        NaN  \n",
       "21417      2009    98144  NONE  12.904459           0.0        NaN  \n",
       "21418      2004    98027  NONE  12.899220           0.0        NaN  \n",
       "21419      2008    98144  NONE  12.691580           0.0        NaN  \n",
       "\n",
       "[4509 rows x 13 columns]"
      ]
     },
     "execution_count": 943,
     "metadata": {},
     "output_type": "execute_result"
    }
   ],
   "source": [
    "df = test_data\n",
    "conditions = [\n",
    "    np.logical_and(df['yr_renovated'].ge(1900), pd.Series.lt(df['yr_renovated'], 1909)),\n",
    "    np.logical_and(df['yr_renovated'].ge(1910), pd.Series.lt(df['yr_renovated'], 1919)),\n",
    "    np.logical_and(df['yr_renovated'].ge(1920), pd.Series.lt(df['yr_renovated'], 1929)),\n",
    "    np.logical_and(df['yr_renovated'].ge(1930), pd.Series.lt(df['yr_renovated'], 1939)),\n",
    "    np.logical_and(df['yr_renovated'].ge(1940), pd.Series.lt(df['yr_renovated'], 1949)),\n",
    "    np.logical_and(df['yr_renovated'].ge(1950), pd.Series.lt(df['yr_renovated'], 1959)),\n",
    "    np.logical_and(df['yr_renovated'].ge(1960), pd.Series.lt(df['yr_renovated'], 1969)),\n",
    "    np.logical_and(df['yr_renovated'].ge(1970), pd.Series.lt(df['yr_renovated'], 1979)),\n",
    "    np.logical_and(df['yr_renovated'].ge(1980), pd.Series.lt(df['yr_renovated'], 1989)),\n",
    "    np.logical_and(df['yr_renovated'].ge(1990), pd.Series.lt(df['yr_renovated'], 1999)),\n",
    "    np.logical_and(df['yr_renovated'].ge(2000), pd.Series.lt(df['yr_renovated'], 2009)),\n",
    "    np.logical_and(df['yr_renovated'].ge(2010), pd.Series.lt(df['yr_renovated'], 2019)),\n",
    "]\n",
    "\n",
    "outputs = [1900, 1910, 1920, 1930, 1940, 1950, 1960, 1970, 1980, 1990, 2000, 2010]\n",
    "\n",
    "test_data['decadeRen'] = pd.Series(np.select(conditions,  outputs))\n",
    "# test_data['decadeRen'] = test_data[test_data.decadeRen > 0]\n",
    "test_data['decadeRen'].value_counts()\n",
    "# test_data['decadeRen'].columns\n",
    "test_data.loc[test_data['yr_built'] > 2000]\n",
    "# test_data.yr_renovated.value_counts()"
   ]
  },
  {
   "cell_type": "code",
   "execution_count": 717,
   "metadata": {},
   "outputs": [],
   "source": [
    "\n",
    "# # Grade Good *******************\n",
    "\n",
    "\n",
    "# nom_features = ['bedrooms', 'bathrooms', 'sqft_living', 'floors', 'yr_built',\n",
    "#                  'price', 'grade'] #original\n",
    "# ord_features = X_subset\n",
    "# # dum_waterfront = pd.get_dummies(house_data['waterfront'], prefix = 'wtr', drop_first = True)\n",
    "# # X_ = pd.concat([test_data[nom_features], X_subset, dum_waterfront],join = 'inner', axis = 1) #-- original\n",
    "# X_ = pd.concat([test_data[nom_features], X_subset],join = 'inner', axis = 1) #--original\n",
    "# X_ = test_data[nom_features] #--test\n",
    "\n",
    "\n",
    "# X = X_.drop(columns = 'grade')\n",
    "# y = X_['grade']\n",
    "# X_train, X_test, y_train, y_test = train_test_split(X, y, test_size=0.3)"
   ]
  },
  {
   "cell_type": "code",
   "execution_count": 718,
   "metadata": {},
   "outputs": [
    {
     "data": {
      "text/plain": [
       "(6312, 192)"
      ]
     },
     "execution_count": 718,
     "metadata": {},
     "output_type": "execute_result"
    }
   ],
   "source": [
    "X_.shape"
   ]
  },
  {
   "cell_type": "code",
   "execution_count": 719,
   "metadata": {},
   "outputs": [
    {
     "data": {
      "text/html": [
       "<div>\n",
       "<style scoped>\n",
       "    .dataframe tbody tr th:only-of-type {\n",
       "        vertical-align: middle;\n",
       "    }\n",
       "\n",
       "    .dataframe tbody tr th {\n",
       "        vertical-align: top;\n",
       "    }\n",
       "\n",
       "    .dataframe thead th {\n",
       "        text-align: right;\n",
       "    }\n",
       "</style>\n",
       "<table border=\"1\" class=\"dataframe\">\n",
       "  <thead>\n",
       "    <tr style=\"text-align: right;\">\n",
       "      <th></th>\n",
       "      <th>bedrooms</th>\n",
       "      <th>bathrooms</th>\n",
       "      <th>sqft_living</th>\n",
       "      <th>floors</th>\n",
       "      <th>grade</th>\n",
       "      <th>price</th>\n",
       "      <th>0</th>\n",
       "      <th>view</th>\n",
       "      <th>year_1901</th>\n",
       "      <th>year_1902</th>\n",
       "      <th>...</th>\n",
       "      <th>zip_98146</th>\n",
       "      <th>zip_98148</th>\n",
       "      <th>zip_98155</th>\n",
       "      <th>zip_98166</th>\n",
       "      <th>zip_98168</th>\n",
       "      <th>zip_98177</th>\n",
       "      <th>zip_98178</th>\n",
       "      <th>zip_98188</th>\n",
       "      <th>zip_98198</th>\n",
       "      <th>zip_98199</th>\n",
       "    </tr>\n",
       "  </thead>\n",
       "  <tbody>\n",
       "    <tr>\n",
       "      <th>bedrooms</th>\n",
       "      <td>1.000000</td>\n",
       "      <td>0.519957</td>\n",
       "      <td>0.570377</td>\n",
       "      <td>0.230667</td>\n",
       "      <td>0.367452</td>\n",
       "      <td>0.344636</td>\n",
       "      <td>0.000336</td>\n",
       "      <td>-0.009893</td>\n",
       "      <td>-0.020100</td>\n",
       "      <td>0.015097</td>\n",
       "      <td>...</td>\n",
       "      <td>-0.019939</td>\n",
       "      <td>-0.019134</td>\n",
       "      <td>-0.001292</td>\n",
       "      <td>-0.003650</td>\n",
       "      <td>-0.029924</td>\n",
       "      <td>0.008306</td>\n",
       "      <td>-0.009417</td>\n",
       "      <td>-0.006999</td>\n",
       "      <td>-0.032361</td>\n",
       "      <td>-0.031950</td>\n",
       "    </tr>\n",
       "    <tr>\n",
       "      <th>bathrooms</th>\n",
       "      <td>0.519957</td>\n",
       "      <td>1.000000</td>\n",
       "      <td>0.761720</td>\n",
       "      <td>0.500400</td>\n",
       "      <td>0.669779</td>\n",
       "      <td>0.554163</td>\n",
       "      <td>-0.010473</td>\n",
       "      <td>-0.001364</td>\n",
       "      <td>-0.031138</td>\n",
       "      <td>0.023014</td>\n",
       "      <td>...</td>\n",
       "      <td>-0.050462</td>\n",
       "      <td>-0.027272</td>\n",
       "      <td>-0.047993</td>\n",
       "      <td>-0.014148</td>\n",
       "      <td>-0.096684</td>\n",
       "      <td>0.007283</td>\n",
       "      <td>-0.054348</td>\n",
       "      <td>-0.033182</td>\n",
       "      <td>-0.059617</td>\n",
       "      <td>0.003989</td>\n",
       "    </tr>\n",
       "    <tr>\n",
       "      <th>sqft_living</th>\n",
       "      <td>0.570377</td>\n",
       "      <td>0.761720</td>\n",
       "      <td>1.000000</td>\n",
       "      <td>0.397384</td>\n",
       "      <td>0.762369</td>\n",
       "      <td>0.688101</td>\n",
       "      <td>-0.010353</td>\n",
       "      <td>-0.000168</td>\n",
       "      <td>-0.022071</td>\n",
       "      <td>0.011996</td>\n",
       "      <td>...</td>\n",
       "      <td>-0.047585</td>\n",
       "      <td>-0.033817</td>\n",
       "      <td>-0.039300</td>\n",
       "      <td>0.008556</td>\n",
       "      <td>-0.075430</td>\n",
       "      <td>0.041030</td>\n",
       "      <td>-0.042901</td>\n",
       "      <td>-0.027897</td>\n",
       "      <td>-0.059450</td>\n",
       "      <td>0.004135</td>\n",
       "    </tr>\n",
       "    <tr>\n",
       "      <th>floors</th>\n",
       "      <td>0.230667</td>\n",
       "      <td>0.500400</td>\n",
       "      <td>0.397384</td>\n",
       "      <td>1.000000</td>\n",
       "      <td>0.466322</td>\n",
       "      <td>0.337365</td>\n",
       "      <td>-0.011589</td>\n",
       "      <td>-0.004491</td>\n",
       "      <td>0.004581</td>\n",
       "      <td>0.044408</td>\n",
       "      <td>...</td>\n",
       "      <td>-0.050269</td>\n",
       "      <td>-0.037074</td>\n",
       "      <td>-0.067207</td>\n",
       "      <td>-0.045977</td>\n",
       "      <td>-0.055267</td>\n",
       "      <td>-0.039620</td>\n",
       "      <td>-0.056331</td>\n",
       "      <td>-0.037860</td>\n",
       "      <td>-0.065458</td>\n",
       "      <td>-0.021727</td>\n",
       "    </tr>\n",
       "    <tr>\n",
       "      <th>grade</th>\n",
       "      <td>0.367452</td>\n",
       "      <td>0.669779</td>\n",
       "      <td>0.762369</td>\n",
       "      <td>0.466322</td>\n",
       "      <td>1.000000</td>\n",
       "      <td>0.692280</td>\n",
       "      <td>-0.002503</td>\n",
       "      <td>-0.001176</td>\n",
       "      <td>-0.022451</td>\n",
       "      <td>-0.000361</td>\n",
       "      <td>...</td>\n",
       "      <td>-0.065219</td>\n",
       "      <td>-0.027976</td>\n",
       "      <td>-0.044477</td>\n",
       "      <td>-0.014013</td>\n",
       "      <td>-0.100526</td>\n",
       "      <td>0.031725</td>\n",
       "      <td>-0.073260</td>\n",
       "      <td>-0.052870</td>\n",
       "      <td>-0.066562</td>\n",
       "      <td>0.022631</td>\n",
       "    </tr>\n",
       "    <tr>\n",
       "      <th>...</th>\n",
       "      <td>...</td>\n",
       "      <td>...</td>\n",
       "      <td>...</td>\n",
       "      <td>...</td>\n",
       "      <td>...</td>\n",
       "      <td>...</td>\n",
       "      <td>...</td>\n",
       "      <td>...</td>\n",
       "      <td>...</td>\n",
       "      <td>...</td>\n",
       "      <td>...</td>\n",
       "      <td>...</td>\n",
       "      <td>...</td>\n",
       "      <td>...</td>\n",
       "      <td>...</td>\n",
       "      <td>...</td>\n",
       "      <td>...</td>\n",
       "      <td>...</td>\n",
       "      <td>...</td>\n",
       "      <td>...</td>\n",
       "      <td>...</td>\n",
       "    </tr>\n",
       "    <tr>\n",
       "      <th>zip_98177</th>\n",
       "      <td>0.008306</td>\n",
       "      <td>0.007283</td>\n",
       "      <td>0.041030</td>\n",
       "      <td>-0.039620</td>\n",
       "      <td>0.031725</td>\n",
       "      <td>0.055471</td>\n",
       "      <td>-0.009786</td>\n",
       "      <td>0.004575</td>\n",
       "      <td>-0.003800</td>\n",
       "      <td>-0.004249</td>\n",
       "      <td>...</td>\n",
       "      <td>-0.011775</td>\n",
       "      <td>-0.005704</td>\n",
       "      <td>-0.016297</td>\n",
       "      <td>-0.012462</td>\n",
       "      <td>-0.012085</td>\n",
       "      <td>1.000000</td>\n",
       "      <td>-0.011931</td>\n",
       "      <td>-0.009531</td>\n",
       "      <td>-0.013114</td>\n",
       "      <td>-0.012755</td>\n",
       "    </tr>\n",
       "    <tr>\n",
       "      <th>zip_98178</th>\n",
       "      <td>-0.009417</td>\n",
       "      <td>-0.054348</td>\n",
       "      <td>-0.042901</td>\n",
       "      <td>-0.056331</td>\n",
       "      <td>-0.073260</td>\n",
       "      <td>-0.100880</td>\n",
       "      <td>-0.000424</td>\n",
       "      <td>-0.006944</td>\n",
       "      <td>-0.003985</td>\n",
       "      <td>-0.004456</td>\n",
       "      <td>...</td>\n",
       "      <td>-0.012349</td>\n",
       "      <td>-0.005982</td>\n",
       "      <td>-0.017091</td>\n",
       "      <td>-0.013069</td>\n",
       "      <td>-0.012673</td>\n",
       "      <td>-0.011931</td>\n",
       "      <td>1.000000</td>\n",
       "      <td>-0.009995</td>\n",
       "      <td>-0.013753</td>\n",
       "      <td>-0.013377</td>\n",
       "    </tr>\n",
       "    <tr>\n",
       "      <th>zip_98188</th>\n",
       "      <td>-0.006999</td>\n",
       "      <td>-0.033182</td>\n",
       "      <td>-0.027897</td>\n",
       "      <td>-0.037860</td>\n",
       "      <td>-0.052870</td>\n",
       "      <td>-0.092553</td>\n",
       "      <td>-0.002682</td>\n",
       "      <td>0.000507</td>\n",
       "      <td>-0.003183</td>\n",
       "      <td>-0.003560</td>\n",
       "      <td>...</td>\n",
       "      <td>-0.009865</td>\n",
       "      <td>-0.004779</td>\n",
       "      <td>-0.013653</td>\n",
       "      <td>-0.010440</td>\n",
       "      <td>-0.010124</td>\n",
       "      <td>-0.009531</td>\n",
       "      <td>-0.009995</td>\n",
       "      <td>1.000000</td>\n",
       "      <td>-0.010987</td>\n",
       "      <td>-0.010686</td>\n",
       "    </tr>\n",
       "    <tr>\n",
       "      <th>zip_98198</th>\n",
       "      <td>-0.032361</td>\n",
       "      <td>-0.059617</td>\n",
       "      <td>-0.059450</td>\n",
       "      <td>-0.065458</td>\n",
       "      <td>-0.066562</td>\n",
       "      <td>-0.141634</td>\n",
       "      <td>-0.006150</td>\n",
       "      <td>-0.002758</td>\n",
       "      <td>-0.004380</td>\n",
       "      <td>-0.004898</td>\n",
       "      <td>...</td>\n",
       "      <td>-0.013574</td>\n",
       "      <td>-0.006575</td>\n",
       "      <td>-0.018787</td>\n",
       "      <td>-0.014365</td>\n",
       "      <td>-0.013931</td>\n",
       "      <td>-0.013114</td>\n",
       "      <td>-0.013753</td>\n",
       "      <td>-0.010987</td>\n",
       "      <td>1.000000</td>\n",
       "      <td>-0.014704</td>\n",
       "    </tr>\n",
       "    <tr>\n",
       "      <th>zip_98199</th>\n",
       "      <td>-0.031950</td>\n",
       "      <td>0.003989</td>\n",
       "      <td>0.004135</td>\n",
       "      <td>-0.021727</td>\n",
       "      <td>0.022631</td>\n",
       "      <td>0.088894</td>\n",
       "      <td>-0.010927</td>\n",
       "      <td>-0.018652</td>\n",
       "      <td>-0.004260</td>\n",
       "      <td>-0.004764</td>\n",
       "      <td>...</td>\n",
       "      <td>-0.013202</td>\n",
       "      <td>-0.006395</td>\n",
       "      <td>-0.018273</td>\n",
       "      <td>-0.013972</td>\n",
       "      <td>-0.013550</td>\n",
       "      <td>-0.012755</td>\n",
       "      <td>-0.013377</td>\n",
       "      <td>-0.010686</td>\n",
       "      <td>-0.014704</td>\n",
       "      <td>1.000000</td>\n",
       "    </tr>\n",
       "  </tbody>\n",
       "</table>\n",
       "<p>192 rows × 192 columns</p>\n",
       "</div>"
      ],
      "text/plain": [
       "             bedrooms  bathrooms  sqft_living    floors     grade     price  \\\n",
       "bedrooms     1.000000   0.519957     0.570377  0.230667  0.367452  0.344636   \n",
       "bathrooms    0.519957   1.000000     0.761720  0.500400  0.669779  0.554163   \n",
       "sqft_living  0.570377   0.761720     1.000000  0.397384  0.762369  0.688101   \n",
       "floors       0.230667   0.500400     0.397384  1.000000  0.466322  0.337365   \n",
       "grade        0.367452   0.669779     0.762369  0.466322  1.000000  0.692280   \n",
       "...               ...        ...          ...       ...       ...       ...   \n",
       "zip_98177    0.008306   0.007283     0.041030 -0.039620  0.031725  0.055471   \n",
       "zip_98178   -0.009417  -0.054348    -0.042901 -0.056331 -0.073260 -0.100880   \n",
       "zip_98188   -0.006999  -0.033182    -0.027897 -0.037860 -0.052870 -0.092553   \n",
       "zip_98198   -0.032361  -0.059617    -0.059450 -0.065458 -0.066562 -0.141634   \n",
       "zip_98199   -0.031950   0.003989     0.004135 -0.021727  0.022631  0.088894   \n",
       "\n",
       "                    0      view  year_1901  year_1902  ...  zip_98146  \\\n",
       "bedrooms     0.000336 -0.009893  -0.020100   0.015097  ...  -0.019939   \n",
       "bathrooms   -0.010473 -0.001364  -0.031138   0.023014  ...  -0.050462   \n",
       "sqft_living -0.010353 -0.000168  -0.022071   0.011996  ...  -0.047585   \n",
       "floors      -0.011589 -0.004491   0.004581   0.044408  ...  -0.050269   \n",
       "grade       -0.002503 -0.001176  -0.022451  -0.000361  ...  -0.065219   \n",
       "...               ...       ...        ...        ...  ...        ...   \n",
       "zip_98177   -0.009786  0.004575  -0.003800  -0.004249  ...  -0.011775   \n",
       "zip_98178   -0.000424 -0.006944  -0.003985  -0.004456  ...  -0.012349   \n",
       "zip_98188   -0.002682  0.000507  -0.003183  -0.003560  ...  -0.009865   \n",
       "zip_98198   -0.006150 -0.002758  -0.004380  -0.004898  ...  -0.013574   \n",
       "zip_98199   -0.010927 -0.018652  -0.004260  -0.004764  ...  -0.013202   \n",
       "\n",
       "             zip_98148  zip_98155  zip_98166  zip_98168  zip_98177  zip_98178  \\\n",
       "bedrooms     -0.019134  -0.001292  -0.003650  -0.029924   0.008306  -0.009417   \n",
       "bathrooms    -0.027272  -0.047993  -0.014148  -0.096684   0.007283  -0.054348   \n",
       "sqft_living  -0.033817  -0.039300   0.008556  -0.075430   0.041030  -0.042901   \n",
       "floors       -0.037074  -0.067207  -0.045977  -0.055267  -0.039620  -0.056331   \n",
       "grade        -0.027976  -0.044477  -0.014013  -0.100526   0.031725  -0.073260   \n",
       "...                ...        ...        ...        ...        ...        ...   \n",
       "zip_98177    -0.005704  -0.016297  -0.012462  -0.012085   1.000000  -0.011931   \n",
       "zip_98178    -0.005982  -0.017091  -0.013069  -0.012673  -0.011931   1.000000   \n",
       "zip_98188    -0.004779  -0.013653  -0.010440  -0.010124  -0.009531  -0.009995   \n",
       "zip_98198    -0.006575  -0.018787  -0.014365  -0.013931  -0.013114  -0.013753   \n",
       "zip_98199    -0.006395  -0.018273  -0.013972  -0.013550  -0.012755  -0.013377   \n",
       "\n",
       "             zip_98188  zip_98198  zip_98199  \n",
       "bedrooms     -0.006999  -0.032361  -0.031950  \n",
       "bathrooms    -0.033182  -0.059617   0.003989  \n",
       "sqft_living  -0.027897  -0.059450   0.004135  \n",
       "floors       -0.037860  -0.065458  -0.021727  \n",
       "grade        -0.052870  -0.066562   0.022631  \n",
       "...                ...        ...        ...  \n",
       "zip_98177    -0.009531  -0.013114  -0.012755  \n",
       "zip_98178    -0.009995  -0.013753  -0.013377  \n",
       "zip_98188     1.000000  -0.010987  -0.010686  \n",
       "zip_98198    -0.010987   1.000000  -0.014704  \n",
       "zip_98199    -0.010686  -0.014704   1.000000  \n",
       "\n",
       "[192 rows x 192 columns]"
      ]
     },
     "execution_count": 719,
     "metadata": {},
     "output_type": "execute_result"
    }
   ],
   "source": [
    "X_.corr()"
   ]
  },
  {
   "cell_type": "code",
   "execution_count": 560,
   "metadata": {},
   "outputs": [
    {
     "name": "stdout",
     "output_type": "stream",
     "text": [
      "R Score =  0.8313035595668021 \n",
      "MAE =  540822.7142246345 \n",
      "RMSE =  625004.402482344 \n",
      "First ten predicted values :  [12.87623024 13.6283493  12.90746307 12.34732437 13.18253899 13.06458664\n",
      " 13.39937019 13.24502945 13.29973984 13.50205612]\n"
     ]
    }
   ],
   "source": [
    "lr = LinearRegression()\n",
    "lr.fit(X_train, y_train)\n",
    "R = lr.score(X_train, y_train)\n",
    "MAE = mean_absolute_error(y_pred, y_test)\n",
    "RMSE = np.sqrt(mean_squared_error(y_pred, y_test))\n",
    "y_pred = lr.predict(X_test)\n",
    "print('R Score = ', R, '\\n' 'MAE = ', MAE, '\\n' 'RMSE = ', RMSE, '\\n' 'First ten predicted values : ', y_pred[0:10])\n",
    "\n"
   ]
  },
  {
   "cell_type": "code",
   "execution_count": 493,
   "metadata": {},
   "outputs": [
    {
     "data": {
      "text/plain": [
       "16.413921035633262"
      ]
     },
     "execution_count": 493,
     "metadata": {},
     "output_type": "execute_result"
    }
   ],
   "source": [
    "diff = (((np.abs(np.exp(y_pred) - np.exp(y_test))) / np.exp(y_test)) * 100).mean()\n",
    "diff"
   ]
  },
  {
   "cell_type": "code",
   "execution_count": 561,
   "metadata": {},
   "outputs": [
    {
     "data": {
      "text/plain": [
       "1.224421848587491"
      ]
     },
     "execution_count": 561,
     "metadata": {},
     "output_type": "execute_result"
    }
   ],
   "source": [
    "diff = ((np.abs(y_pred - y_test) / y_test) * 100).mean()\n",
    "diff"
   ]
  },
  {
   "cell_type": "code",
   "execution_count": 567,
   "metadata": {},
   "outputs": [
    {
     "data": {
      "text/plain": [
       "Int64Index([ 7868, 16333, 13352, 20348, 16893,  4865, 14134, 11029, 11032,\n",
       "            11037,\n",
       "            ...\n",
       "            18110, 19776,  6461, 13406, 18634,  1323,  5717, 19281, 15129,\n",
       "            20535],\n",
       "           dtype='int64', length=6351)"
      ]
     },
     "execution_count": 567,
     "metadata": {},
     "output_type": "execute_result"
    }
   ],
   "source": [
    "X_test.index"
   ]
  },
  {
   "cell_type": "code",
   "execution_count": 563,
   "metadata": {},
   "outputs": [
    {
     "data": {
      "text/plain": [
       "array([[<AxesSubplot:title={'center':'price'}>]], dtype=object)"
      ]
     },
     "execution_count": 563,
     "metadata": {},
     "output_type": "execute_result"
    },
    {
     "data": {
      "image/png": "[encoded data removed]",
      "text/plain": [
       "<Figure size 432x288 with 1 Axes>"
      ]
     },
     "metadata": {
      "needs_background": "light"
     },
     "output_type": "display_data"
    }
   ],
   "source": [
    "# predicted_home_price = pd.DataFrame(np.exp(y_pred),columns = ['price'])\n",
    "# predicted_home_price.loc[predicted_home_price['price'] < 5000000].hist()\n",
    "\n",
    "predicted_home_price = pd.DataFrame(y_pred,columns = ['price'])\n",
    "predicted_home_price.loc[predicted_home_price['price'] < 2750000].hist()\n",
    "# predicted_home_price.hist()"
   ]
  },
  {
   "cell_type": "code",
   "execution_count": 565,
   "metadata": {},
   "outputs": [
    {
     "data": {
      "text/plain": [
       "<AxesSubplot:>"
      ]
     },
     "execution_count": 565,
     "metadata": {},
     "output_type": "execute_result"
    },
    {
     "data": {
      "image/png": "[encoded data removed]",
      "text/plain": [
       "<Figure size 432x288 with 1 Axes>"
      ]
     },
     "metadata": {
      "needs_background": "light"
     },
     "output_type": "display_data"
    }
   ],
   "source": [
    "# sns.histplot(house_data.price)\n",
    "actual_home_price = (np.log(house_data.price))\n",
    "actual_home_price.loc[actual_home_price < 2750000].hist()\n",
    "# actual_home_price.hist()"
   ]
  },
  {
   "cell_type": "code",
   "execution_count": 432,
   "metadata": {},
   "outputs": [],
   "source": [
    "# lr.score(X_train, y_train)"
   ]
  },
  {
   "cell_type": "code",
   "execution_count": 431,
   "metadata": {},
   "outputs": [],
   "source": [
    "# lr.get_params()"
   ]
  },
  {
   "cell_type": "code",
   "execution_count": 423,
   "metadata": {},
   "outputs": [
    {
     "data": {
      "text/plain": [
       "array([13.43056481, 12.94901106, 13.14090708, 12.14852883, 13.79016748,\n",
       "       13.62518569, 13.77284823, 12.82499276, 13.12262279, 13.01958009])"
      ]
     },
     "execution_count": 423,
     "metadata": {},
     "output_type": "execute_result"
    }
   ],
   "source": [
    "# This gets the predictions of model on test set.\n",
    "y_pred = lr.predict(X_test)\n",
    "y_pred[0:10]\n",
    "#get first ten elements of prediction.\n",
    "y_pred[0:10]\n",
    "\n",
    "# # This gets the predictions of model on test set.\n",
    "# y_pred = lr.predict(np.exp(X_test))\n",
    "# #get first ten elements of prediction.\n",
    "# y_pred[0:10]"
   ]
  },
  {
   "cell_type": "code",
   "execution_count": 424,
   "metadata": {},
   "outputs": [
    {
     "data": {
      "text/plain": [
       "0.14798104591009428"
      ]
     },
     "execution_count": 424,
     "metadata": {},
     "output_type": "execute_result"
    }
   ],
   "source": [
    "MAE = mean_absolute_error(y_pred, y_test)\n",
    "MAE"
   ]
  },
  {
   "cell_type": "code",
   "execution_count": 425,
   "metadata": {},
   "outputs": [
    {
     "data": {
      "text/plain": [
       "0.20565865318031412"
      ]
     },
     "execution_count": 425,
     "metadata": {},
     "output_type": "execute_result"
    }
   ],
   "source": [
    "RMSE = np.sqrt(mean_squared_error(y_pred, y_test))\n",
    "RMSE"
   ]
  },
  {
   "cell_type": "code",
   "execution_count": 386,
   "metadata": {},
   "outputs": [
    {
     "data": {
      "text/plain": [
       "<ufunc 'exp'>"
      ]
     },
     "execution_count": 386,
     "metadata": {},
     "output_type": "execute_result"
    }
   ],
   "source": [
    "np.exp"
   ]
  },
  {
   "cell_type": "code",
   "execution_count": 962,
   "metadata": {},
   "outputs": [
    {
     "data": {
      "text/plain": [
       "0.4    8838\n",
       "0.5    6012\n",
       "0.6    2589\n",
       "0.3    1987\n",
       "0.7    1120\n",
       "0.8     389\n",
       "0.2     234\n",
       "0.9      85\n",
       "0.1      27\n",
       "1.0      13\n",
       "Name: grade, dtype: int64"
      ]
     },
     "execution_count": 962,
     "metadata": {},
     "output_type": "execute_result"
    }
   ],
   "source": [
    "test_data.grade.value_counts()"
   ]
  },
  {
   "cell_type": "code",
   "execution_count": 960,
   "metadata": {
    "scrolled": true
   },
   "outputs": [
    {
     "name": "stderr",
     "output_type": "stream",
     "text": [
      "/Users/austinboring/opt/anaconda3/envs/learn-env/lib/python3.8/site-packages/seaborn/_decorators.py:36: FutureWarning: Pass the following variables as keyword args: x, y. From version 0.12, the only valid positional argument will be `data`, and passing other arguments without an explicit keyword will result in an error or misinterpretation.\n",
      "  warnings.warn(\n"
     ]
    },
    {
     "data": {
      "image/png": "[encoded data removed]",
      "text/plain": [
       "<Figure size 432x288 with 1 Axes>"
      ]
     },
     "metadata": {
      "needs_background": "light"
     },
     "output_type": "display_data"
    }
   ],
   "source": [
    "# sns.regplot(test_data.bedrooms,test_data.price, fit_reg = True)\n",
    "# sns.regplot(test_data.sqft_living,test_data.price, fit_reg = True)\n",
    "# sns.regplot(test_data['yr_built'].loc[test_data.yr_built > 2000],\n",
    "#             test_data['price'].loc[test_data.yr_built > 2000], fit_reg = True)\n",
    "sns.regplot(test_data.grade, test_data.price, fit_reg = True);\n",
    "\n",
    "# sns.regplot(yr_o_2000, pr_o_2000, fit_reg = True)"
   ]
  },
  {
   "cell_type": "code",
   "execution_count": 952,
   "metadata": {},
   "outputs": [],
   "source": [
    "yr_o_2000 = test_data['yr_built'].loc[test_data.yr_built > 2000]\n",
    "pr_o_2000 = test_data['price'].loc[test_data.yr_built > 2000]"
   ]
  },
  {
   "cell_type": "code",
   "execution_count": 958,
   "metadata": {},
   "outputs": [
    {
     "data": {
      "image/png": "[encoded data removed]",
      "text/plain": [
       "<Figure size 432x288 with 4 Axes>"
      ]
     },
     "metadata": {
      "needs_background": "light"
     },
     "output_type": "display_data"
    }
   ],
   "source": [
    "fig, axs = plt.subplots(2, 2)\n",
    "axs[0, 0].scatter(test_data.bedrooms, test_data.price)\n",
    "axs[0, 0].set_title(\"Bedrooms\")\n",
    "axs[1, 0].scatter(test_data.sqft_living, test_data.price)\n",
    "axs[1, 0].set_title(\"Square Feet\")\n",
    "axs[1, 0].sharex(axs[0, 0])\n",
    "axs[0, 1].scatter(test_data.grade, test_data.price)\n",
    "axs[0, 1].set_title(\"Grade\")\n",
    "axs[1, 1].scatter(yr_o_2000, pr_o_2000)\n",
    "axs[1, 1].set_title(\"Year Built\")\n",
    "fig.tight_layout()"
   ]
  },
  {
   "cell_type": "code",
   "execution_count": null,
   "metadata": {},
   "outputs": [],
   "source": []
  }
 ],
 "metadata": {
  "kernelspec": {
   "display_name": "Python 3.8.5 ('learn-env')",
   "language": "python",
   "name": "python385jvsc74a57bd00386e0ab960921a80f389732ca4b5c334f986e0948b3f6661aa613ff8b30dca4"
  },
  "language_info": {
   "codemirror_mode": {
    "name": "ipython",
    "version": 3
   },
   "file_extension": ".py",
   "mimetype": "text/x-python",
   "name": "python",
   "nbconvert_exporter": "python",
   "pygments_lexer": "ipython3",
   "version": "3.8.5"
  }
 },
 "nbformat": 4,
 "nbformat_minor": 4
}
