{
 "cells": [
  {
   "cell_type": "code",
   "execution_count": 47,
   "metadata": {},
   "outputs": [],
   "source": [
    "import pandas as pd \n",
    "import numpy as np \n",
    "import seaborn as sns\n",
    "import scipy.stats as stats\n",
    "\n",
    "from pandas.api.types import CategoricalDtype\n",
    "\n",
    "from statsmodels.miscmodels.ordinal_model import OrderedModel\n",
    "import statsmodels.api as sm\n",
    "\n",
    "from sklearn.linear_model import LinearRegression\n",
    "from sklearn.model_selection import train_test_split\n",
    "from sklearn.metrics import mean_absolute_error\n",
    "from sklearn.metrics import mean_squared_error\n",
    "from sklearn.preprocessing import OneHotEncoder\n",
    "from sklearn.preprocessing import OrdinalEncoder"
   ]
  },
  {
   "cell_type": "code",
   "execution_count": 48,
   "metadata": {},
   "outputs": [],
   "source": [
    "house_data = pd.read_csv('data/kc_house_data.csv')"
   ]
  },
  {
   "cell_type": "code",
   "execution_count": 207,
   "metadata": {},
   "outputs": [
    {
     "data": {
      "text/plain": [
       "(20831, 7)"
      ]
     },
     "execution_count": 207,
     "metadata": {},
     "output_type": "execute_result"
    }
   ],
   "source": [
    "test_data = house_data[['id', 'bedrooms', 'bathrooms', 'sqft_living', 'floors',\n",
    "                        'condition','grade', 'yr_built', 'zipcode', 'price'\n",
    "                       ]].copy()\n",
    "\n",
    "# Drop id nulls and duplicates \n",
    "test_data.drop_duplicates(subset= 'id', keep='first', inplace=True, ignore_index = True)\n",
    "\n",
    "\n",
    "# bedrooms drop all greater than 6\n",
    "test_data.drop(test_data.index[test_data['bedrooms'] >= 7], inplace = True)\n",
    "\n",
    "\n",
    "#bathrooms remove all bathroom values less than 1 , greater than 4 \n",
    "test_data = test_data[test_data.bathrooms >= 1.0]\n",
    "test_data = test_data[test_data.bathrooms <= 4.0]\n",
    "test_data['bathrooms'] = test_data['bathrooms'].dropna()\n",
    "\n",
    "# Cast grade column as ordinal \n",
    "cat_type = CategoricalDtype(categories=['4 Low', '5 Fair', '6 Low Average', '7 Average',\n",
    "                                        '8 Good','9 Better', '10 Very Good', '11 Excellent',\n",
    "                                        '12 Luxury', '13 Mansion'], ordered=True)\n",
    "test_data.grade = test_data['grade'].astype(cat_type)\n",
    "\n",
    "# sqft_living drop above 5000\n",
    "test_data = test_data[test_data.sqft_living < 5000]\n",
    "\n",
    "\n",
    "# May potentially reduce range of year built -- cutoff around 1920\n",
    "\n",
    "# Price drop outliers \n",
    "test_data = test_data[test_data.price < 2000000]\n",
    "test_data['price'] = test_data['price'].map(lambda x: np.log(x))   \n",
    "\n",
    "\n",
    "# Waterfront drop nulls \n",
    "# test_data['waterfront'] = test_data['waterfront'].isna().drop()\n",
    "# test_data.dropna(axis = 0, subset = 'waterfront', inplace = True)\n",
    "# DataFrame.dropna(axis=0, how='any', thresh=None, subset=None, inplace=False)\n",
    "# **************************************************************************************\n",
    "# ABOVE IS GOOD ... except for waterfront... removed waterfront from subset\n",
    "\n",
    "\n",
    "\n",
    "\n",
    "\n",
    "\n",
    "\n",
    "test_data[nom_features].shape"
   ]
  },
  {
   "cell_type": "code",
   "execution_count": 195,
   "metadata": {},
   "outputs": [
    {
     "data": {
      "text/plain": [
       "(20831, 2)"
      ]
     },
     "execution_count": 195,
     "metadata": {},
     "output_type": "execute_result"
    }
   ],
   "source": [
    "ord_cat_selector = ['condition', 'grade']\n",
    "cat_subset = test_data[ord_cat_selector]\n",
    "cat_subset\n",
    "\n",
    "ordered_condition = ['Poor', 'Fair', 'Average', 'Good', 'Very Good']\n",
    "ordered_grade = ['4 Low', '5 Fair', '6 Low Average', '7 Average','8 Good',\n",
    "                 '9 Better', '10 Very Good', '11 Excellent','12 Luxury', \n",
    "                 '13 Mansion']\n",
    "\n",
    "o_enc = OrdinalEncoder(categories = [ordered_condition, ordered_grade])\n",
    "o_enc.fit(cat_subset)\n",
    "\n",
    "X_subset = pd.DataFrame(o_enc.transform(cat_subset),\n",
    "                        columns = cat_subset.columns)\n",
    "X_subset.shape"
   ]
  },
  {
   "cell_type": "code",
   "execution_count": 256,
   "metadata": {},
   "outputs": [],
   "source": [
    "# pd.plotting.scatter_matrix(test_data[['bedrooms', 'bathrooms', 'sqft_living', 'floors',\n",
    "#                         'condition','grade', 'yr_built', 'zipcode', 'price']], figsize=(10,12));"
   ]
  },
  {
   "cell_type": "code",
   "execution_count": 255,
   "metadata": {},
   "outputs": [],
   "source": [
    "# test_data.waterfront"
   ]
  },
  {
   "cell_type": "code",
   "execution_count": null,
   "metadata": {},
   "outputs": [],
   "source": []
  },
  {
   "cell_type": "code",
   "execution_count": 37,
   "metadata": {},
   "outputs": [
    {
     "data": {
      "text/plain": [
       "LinearRegression()"
      ]
     },
     "execution_count": 37,
     "metadata": {},
     "output_type": "execute_result"
    }
   ],
   "source": [
    "lr = LinearRegression()\n",
    "lr"
   ]
  },
  {
   "cell_type": "code",
   "execution_count": 252,
   "metadata": {},
   "outputs": [],
   "source": [
    "nom_features = ['bedrooms', 'bathrooms', 'sqft_living', 'floors', 'yr_built', 'zipcode', 'price']\n",
    "ord_features = X_subset\n",
    "X_ = test_data[nom_features].join(X_subset, how = 'inner')\n",
    "X = X_.drop(columns = 'price')\n",
    "y = X_['price']\n",
    "X_train, X_test, y_train, y_test = train_test_split(X, y, test_size=0.3)"
   ]
  },
  {
   "cell_type": "code",
   "execution_count": 253,
   "metadata": {},
   "outputs": [],
   "source": [
    "# print(len(X_train))\n",
    "# print(len(X_test))\n",
    "# print(len(X_train))\n",
    "# print(len(X_test.values().isnull()))\n"
   ]
  },
  {
   "cell_type": "code",
   "execution_count": 267,
   "metadata": {},
   "outputs": [],
   "source": [
    "# sns.scatterplot(X, y)"
   ]
  },
  {
   "cell_type": "code",
   "execution_count": 254,
   "metadata": {},
   "outputs": [
    {
     "data": {
      "text/plain": [
       "LinearRegression()"
      ]
     },
     "execution_count": 254,
     "metadata": {},
     "output_type": "execute_result"
    }
   ],
   "source": [
    "lr.fit(X_train, y_train)"
   ]
  },
  {
   "cell_type": "code",
   "execution_count": 269,
   "metadata": {},
   "outputs": [
    {
     "data": {
      "text/plain": [
       "0.49283402825765665"
      ]
     },
     "execution_count": 269,
     "metadata": {},
     "output_type": "execute_result"
    }
   ],
   "source": [
    "lr.score(X_train, y_train)"
   ]
  },
  {
   "cell_type": "code",
   "execution_count": 257,
   "metadata": {},
   "outputs": [
    {
     "data": {
      "text/plain": [
       "array([-0.07292926,  0.12980752,  0.00040156,  0.12347285, -0.00489866,\n",
       "        0.00029845, -0.0098249 ,  0.00173025])"
      ]
     },
     "execution_count": 257,
     "metadata": {},
     "output_type": "execute_result"
    }
   ],
   "source": [
    "lr.coef_"
   ]
  },
  {
   "cell_type": "code",
   "execution_count": 258,
   "metadata": {},
   "outputs": [
    {
     "data": {
      "text/plain": [
       "Index(['bedrooms', 'bathrooms', 'sqft_living', 'floors', 'yr_built', 'zipcode',\n",
       "       'condition', 'grade'],\n",
       "      dtype='object')"
      ]
     },
     "execution_count": 258,
     "metadata": {},
     "output_type": "execute_result"
    }
   ],
   "source": [
    "X.columns"
   ]
  },
  {
   "cell_type": "code",
   "execution_count": 259,
   "metadata": {},
   "outputs": [
    {
     "data": {
      "text/plain": [
       "array([12.98852467, 13.98882329, 12.80370712, 13.01740916, 13.24573092,\n",
       "       12.81989677, 13.0420421 , 12.8032616 , 12.89573338, 12.77999688])"
      ]
     },
     "execution_count": 259,
     "metadata": {},
     "output_type": "execute_result"
    }
   ],
   "source": [
    "# This gets the predictions of model on test set.\n",
    "y_pred = lr.predict(X_test)\n",
    "#get first ten elements of prediction.\n",
    "y_pred[0:10]"
   ]
  },
  {
   "cell_type": "code",
   "execution_count": 260,
   "metadata": {},
   "outputs": [
    {
     "data": {
      "text/plain": [
       "0.27965779168037963"
      ]
     },
     "execution_count": 260,
     "metadata": {},
     "output_type": "execute_result"
    }
   ],
   "source": [
    "MAE = mean_absolute_error(y_pred, y_test)\n",
    "MAE"
   ]
  },
  {
   "cell_type": "code",
   "execution_count": 261,
   "metadata": {},
   "outputs": [
    {
     "data": {
      "text/plain": [
       "0.3472449166951404"
      ]
     },
     "execution_count": 261,
     "metadata": {},
     "output_type": "execute_result"
    }
   ],
   "source": [
    "RMSE = np.sqrt(mean_squared_error(y_pred, y_test))\n",
    "RMSE"
   ]
  },
  {
   "cell_type": "code",
   "execution_count": 265,
   "metadata": {},
   "outputs": [],
   "source": [
    "# lr.summary()"
   ]
  },
  {
   "cell_type": "code",
   "execution_count": null,
   "metadata": {},
   "outputs": [],
   "source": [
    "\"\"\"\n",
    "sqft, zipcode, grade -- median price \n",
    "\n",
    "\n",
    "\"\"\""
   ]
  }
 ],
 "metadata": {
  "kernelspec": {
   "display_name": "Python 3.8.5 ('learn-env')",
   "language": "python",
   "name": "python385jvsc74a57bd00386e0ab960921a80f389732ca4b5c334f986e0948b3f6661aa613ff8b30dca4"
  },
  "language_info": {
   "codemirror_mode": {
    "name": "ipython",
    "version": 3
   },
   "file_extension": ".py",
   "mimetype": "text/x-python",
   "name": "python",
   "nbconvert_exporter": "python",
   "pygments_lexer": "ipython3",
   "version": "3.8.5"
  }
 },
 "nbformat": 4,
 "nbformat_minor": 4
}
