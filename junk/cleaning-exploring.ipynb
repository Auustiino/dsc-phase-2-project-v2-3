{
 "cells": [
  {
   "cell_type": "code",
   "execution_count": 34,
   "metadata": {},
   "outputs": [],
   "source": [
    "import pandas as pd \n",
    "import numpy as np \n",
    "import seaborn as sns\n",
    "import scipy.stats as stats\n",
    "\n",
    "from statsmodels.miscmodels.ordinal_model import OrderedModel\n",
    "\n",
    "import statsmodels.api as sm"
   ]
  },
  {
   "cell_type": "code",
   "execution_count": null,
   "metadata": {},
   "outputs": [],
   "source": []
  },
  {
   "cell_type": "code",
   "execution_count": 35,
   "metadata": {},
   "outputs": [
    {
     "data": {
      "text/html": [
       "<div>\n",
       "<style scoped>\n",
       "    .dataframe tbody tr th:only-of-type {\n",
       "        vertical-align: middle;\n",
       "    }\n",
       "\n",
       "    .dataframe tbody tr th {\n",
       "        vertical-align: top;\n",
       "    }\n",
       "\n",
       "    .dataframe thead th {\n",
       "        text-align: right;\n",
       "    }\n",
       "</style>\n",
       "<table border=\"1\" class=\"dataframe\">\n",
       "  <thead>\n",
       "    <tr style=\"text-align: right;\">\n",
       "      <th></th>\n",
       "      <th>id</th>\n",
       "      <th>date</th>\n",
       "      <th>price</th>\n",
       "      <th>bedrooms</th>\n",
       "      <th>bathrooms</th>\n",
       "      <th>sqft_living</th>\n",
       "      <th>sqft_lot</th>\n",
       "      <th>floors</th>\n",
       "      <th>waterfront</th>\n",
       "      <th>view</th>\n",
       "      <th>...</th>\n",
       "      <th>grade</th>\n",
       "      <th>sqft_above</th>\n",
       "      <th>sqft_basement</th>\n",
       "      <th>yr_built</th>\n",
       "      <th>yr_renovated</th>\n",
       "      <th>zipcode</th>\n",
       "      <th>lat</th>\n",
       "      <th>long</th>\n",
       "      <th>sqft_living15</th>\n",
       "      <th>sqft_lot15</th>\n",
       "    </tr>\n",
       "  </thead>\n",
       "  <tbody>\n",
       "    <tr>\n",
       "      <th>0</th>\n",
       "      <td>7129300520</td>\n",
       "      <td>10/13/2014</td>\n",
       "      <td>221900.0</td>\n",
       "      <td>3</td>\n",
       "      <td>1.00</td>\n",
       "      <td>1180</td>\n",
       "      <td>5650</td>\n",
       "      <td>1.0</td>\n",
       "      <td>NaN</td>\n",
       "      <td>NONE</td>\n",
       "      <td>...</td>\n",
       "      <td>7 Average</td>\n",
       "      <td>1180</td>\n",
       "      <td>0.0</td>\n",
       "      <td>1955</td>\n",
       "      <td>0.0</td>\n",
       "      <td>98178</td>\n",
       "      <td>47.5112</td>\n",
       "      <td>-122.257</td>\n",
       "      <td>1340</td>\n",
       "      <td>5650</td>\n",
       "    </tr>\n",
       "    <tr>\n",
       "      <th>1</th>\n",
       "      <td>6414100192</td>\n",
       "      <td>12/9/2014</td>\n",
       "      <td>538000.0</td>\n",
       "      <td>3</td>\n",
       "      <td>2.25</td>\n",
       "      <td>2570</td>\n",
       "      <td>7242</td>\n",
       "      <td>2.0</td>\n",
       "      <td>NO</td>\n",
       "      <td>NONE</td>\n",
       "      <td>...</td>\n",
       "      <td>7 Average</td>\n",
       "      <td>2170</td>\n",
       "      <td>400.0</td>\n",
       "      <td>1951</td>\n",
       "      <td>1991.0</td>\n",
       "      <td>98125</td>\n",
       "      <td>47.7210</td>\n",
       "      <td>-122.319</td>\n",
       "      <td>1690</td>\n",
       "      <td>7639</td>\n",
       "    </tr>\n",
       "  </tbody>\n",
       "</table>\n",
       "<p>2 rows × 21 columns</p>\n",
       "</div>"
      ],
      "text/plain": [
       "           id        date     price  bedrooms  bathrooms  sqft_living  \\\n",
       "0  7129300520  10/13/2014  221900.0         3       1.00         1180   \n",
       "1  6414100192   12/9/2014  538000.0         3       2.25         2570   \n",
       "\n",
       "   sqft_lot  floors waterfront  view  ...      grade sqft_above  \\\n",
       "0      5650     1.0        NaN  NONE  ...  7 Average       1180   \n",
       "1      7242     2.0         NO  NONE  ...  7 Average       2170   \n",
       "\n",
       "   sqft_basement yr_built  yr_renovated  zipcode      lat     long  \\\n",
       "0            0.0     1955           0.0    98178  47.5112 -122.257   \n",
       "1          400.0     1951        1991.0    98125  47.7210 -122.319   \n",
       "\n",
       "   sqft_living15  sqft_lot15  \n",
       "0           1340        5650  \n",
       "1           1690        7639  \n",
       "\n",
       "[2 rows x 21 columns]"
      ]
     },
     "execution_count": 35,
     "metadata": {},
     "output_type": "execute_result"
    }
   ],
   "source": [
    "house_data = pd.read_csv('data/kc_house_data.csv')\n",
    "house_data.head(2)"
   ]
  },
  {
   "cell_type": "code",
   "execution_count": 36,
   "metadata": {},
   "outputs": [
    {
     "name": "stdout",
     "output_type": "stream",
     "text": [
      "<class 'pandas.core.frame.DataFrame'>\n",
      "RangeIndex: 21597 entries, 0 to 21596\n",
      "Data columns (total 21 columns):\n",
      " #   Column         Non-Null Count  Dtype  \n",
      "---  ------         --------------  -----  \n",
      " 0   id             21597 non-null  int64  \n",
      " 1   date           21597 non-null  object \n",
      " 2   price          21597 non-null  float64\n",
      " 3   bedrooms       21597 non-null  int64  \n",
      " 4   bathrooms      21597 non-null  float64\n",
      " 5   sqft_living    21597 non-null  int64  \n",
      " 6   sqft_lot       21597 non-null  int64  \n",
      " 7   floors         21597 non-null  float64\n",
      " 8   waterfront     19221 non-null  object \n",
      " 9   view           21534 non-null  object \n",
      " 10  condition      21597 non-null  object \n",
      " 11  grade          21597 non-null  object \n",
      " 12  sqft_above     21597 non-null  int64  \n",
      " 13  sqft_basement  21597 non-null  object \n",
      " 14  yr_built       21597 non-null  int64  \n",
      " 15  yr_renovated   17755 non-null  float64\n",
      " 16  zipcode        21597 non-null  int64  \n",
      " 17  lat            21597 non-null  float64\n",
      " 18  long           21597 non-null  float64\n",
      " 19  sqft_living15  21597 non-null  int64  \n",
      " 20  sqft_lot15     21597 non-null  int64  \n",
      "dtypes: float64(6), int64(9), object(6)\n",
      "memory usage: 3.5+ MB\n"
     ]
    }
   ],
   "source": [
    "house_data.info()"
   ]
  },
  {
   "cell_type": "code",
   "execution_count": 37,
   "metadata": {},
   "outputs": [
    {
     "data": {
      "text/plain": [
       "Index(['id', 'date', 'price', 'bedrooms', 'bathrooms', 'sqft_living',\n",
       "       'sqft_lot', 'floors', 'waterfront', 'view', 'condition', 'grade',\n",
       "       'sqft_above', 'sqft_basement', 'yr_built', 'yr_renovated', 'zipcode',\n",
       "       'lat', 'long', 'sqft_living15', 'sqft_lot15'],\n",
       "      dtype='object')"
      ]
     },
     "execution_count": 37,
     "metadata": {},
     "output_type": "execute_result"
    }
   ],
   "source": [
    "house_data.columns"
   ]
  },
  {
   "cell_type": "code",
   "execution_count": 38,
   "metadata": {
    "scrolled": false
   },
   "outputs": [],
   "source": [
    "# ***********************************************************"
   ]
  },
  {
   "cell_type": "code",
   "execution_count": null,
   "metadata": {},
   "outputs": [],
   "source": []
  },
  {
   "cell_type": "code",
   "execution_count": 39,
   "metadata": {
    "scrolled": true
   },
   "outputs": [
    {
     "data": {
      "text/plain": [
       "21420"
      ]
     },
     "execution_count": 39,
     "metadata": {},
     "output_type": "execute_result"
    }
   ],
   "source": [
    "house_id = house_data['id']\n",
    "house_id.value_counts()\n",
    "\n",
    "len(house_id.unique())"
   ]
  },
  {
   "cell_type": "code",
   "execution_count": 40,
   "metadata": {},
   "outputs": [],
   "source": [
    "\n",
    "# df.loc[df.id.isin([795000620])]\n"
   ]
  },
  {
   "cell_type": "markdown",
   "metadata": {},
   "source": [
    "# 0 -- id -- variable name house "
   ]
  },
  {
   "cell_type": "code",
   "execution_count": 41,
   "metadata": {},
   "outputs": [
    {
     "data": {
      "text/plain": [
       "795000620     3\n",
       "1825069031    2\n",
       "2019200220    2\n",
       "7129304540    2\n",
       "1781500435    2\n",
       "             ..\n",
       "7812801125    1\n",
       "4364700875    1\n",
       "3021059276    1\n",
       "880000205     1\n",
       "1777500160    1\n",
       "Name: id, Length: 21420, dtype: int64"
      ]
     },
     "execution_count": 41,
     "metadata": {},
     "output_type": "execute_result"
    }
   ],
   "source": [
    "house = house_data['id']\n",
    "house.value_counts()"
   ]
  },
  {
   "cell_type": "markdown",
   "metadata": {},
   "source": [
    "# 1--Date -- categorical -- (mostly by year?)"
   ]
  },
  {
   "cell_type": "code",
   "execution_count": 42,
   "metadata": {},
   "outputs": [
    {
     "data": {
      "text/plain": [
       "6/23/2014     142\n",
       "6/26/2014     131\n",
       "6/25/2014     131\n",
       "7/8/2014      127\n",
       "4/27/2015     126\n",
       "             ... \n",
       "1/17/2015       1\n",
       "7/27/2014       1\n",
       "8/3/2014        1\n",
       "5/15/2015       1\n",
       "11/30/2014      1\n",
       "Name: date, Length: 372, dtype: int64"
      ]
     },
     "execution_count": 42,
     "metadata": {},
     "output_type": "execute_result"
    }
   ],
   "source": [
    "date = house_data['date']\n",
    "date.value_counts()"
   ]
  },
  {
   "cell_type": "markdown",
   "metadata": {},
   "source": [
    "# 2 -- price"
   ]
  },
  {
   "cell_type": "code",
   "execution_count": 43,
   "metadata": {},
   "outputs": [
    {
     "data": {
      "text/plain": [
       "count    2.159700e+04\n",
       "mean     5.402966e+05\n",
       "std      3.673681e+05\n",
       "min      7.800000e+04\n",
       "25%      3.220000e+05\n",
       "50%      4.500000e+05\n",
       "75%      6.450000e+05\n",
       "max      7.700000e+06\n",
       "Name: price, dtype: float64"
      ]
     },
     "execution_count": 43,
     "metadata": {},
     "output_type": "execute_result"
    }
   ],
   "source": [
    "price = house_data['price']\n",
    "price.describe()"
   ]
  },
  {
   "cell_type": "code",
   "execution_count": 44,
   "metadata": {},
   "outputs": [
    {
     "data": {
      "text/plain": [
       "3     9824\n",
       "4     6882\n",
       "2     2760\n",
       "5     1601\n",
       "6      272\n",
       "1      196\n",
       "7       38\n",
       "8       13\n",
       "9        6\n",
       "10       3\n",
       "11       1\n",
       "33       1\n",
       "Name: bedrooms, dtype: int64"
      ]
     },
     "execution_count": 44,
     "metadata": {},
     "output_type": "execute_result"
    }
   ],
   "source": [
    "bedrooms = house_data[\"bedrooms\"]\n",
    "bedrooms.value_counts()"
   ]
  },
  {
   "cell_type": "code",
   "execution_count": 45,
   "metadata": {},
   "outputs": [
    {
     "data": {
      "text/plain": [
       "2.50    5377\n",
       "1.00    3851\n",
       "1.75    3048\n",
       "2.25    2047\n",
       "2.00    1930\n",
       "1.50    1445\n",
       "2.75    1185\n",
       "3.00     753\n",
       "3.50     731\n",
       "3.25     589\n",
       "3.75     155\n",
       "4.00     136\n",
       "4.50     100\n",
       "4.25      79\n",
       "0.75      71\n",
       "4.75      23\n",
       "5.00      21\n",
       "5.25      13\n",
       "5.50      10\n",
       "1.25       9\n",
       "6.00       6\n",
       "5.75       4\n",
       "0.50       4\n",
       "8.00       2\n",
       "6.25       2\n",
       "6.75       2\n",
       "6.50       2\n",
       "7.50       1\n",
       "7.75       1\n",
       "Name: bathrooms, dtype: int64"
      ]
     },
     "execution_count": 45,
     "metadata": {},
     "output_type": "execute_result"
    }
   ],
   "source": [
    "bathrooms = house_data[\"bathrooms\"]\n",
    "bathrooms.value_counts()"
   ]
  },
  {
   "cell_type": "code",
   "execution_count": null,
   "metadata": {},
   "outputs": [],
   "source": []
  },
  {
   "cell_type": "markdown",
   "metadata": {},
   "source": [
    "# 5 -- sqft_living--living space in home"
   ]
  },
  {
   "cell_type": "code",
   "execution_count": 46,
   "metadata": {},
   "outputs": [
    {
     "data": {
      "text/plain": [
       "1300    138\n",
       "1400    135\n",
       "1440    133\n",
       "1660    129\n",
       "1010    129\n",
       "       ... \n",
       "4970      1\n",
       "2905      1\n",
       "2793      1\n",
       "4810      1\n",
       "1975      1\n",
       "Name: sqft_living, Length: 1034, dtype: int64"
      ]
     },
     "execution_count": 46,
     "metadata": {},
     "output_type": "execute_result"
    }
   ],
   "source": [
    "sqft_living = house_data[\"sqft_living\"]\n",
    "sqft_living.value_counts()"
   ]
  },
  {
   "cell_type": "markdown",
   "metadata": {},
   "source": [
    "# 6-- sqft_lot -- "
   ]
  },
  {
   "cell_type": "code",
   "execution_count": 47,
   "metadata": {},
   "outputs": [
    {
     "data": {
      "text/plain": [
       "5000      358\n",
       "6000      290\n",
       "4000      251\n",
       "7200      220\n",
       "7500      119\n",
       "         ... \n",
       "1448        1\n",
       "38884       1\n",
       "17313       1\n",
       "35752       1\n",
       "315374      1\n",
       "Name: sqft_lot, Length: 9776, dtype: int64"
      ]
     },
     "execution_count": 47,
     "metadata": {},
     "output_type": "execute_result"
    }
   ],
   "source": [
    "sqft_lot = house_data[\"sqft_lot\"]\n",
    "sqft_lot.value_counts()"
   ]
  },
  {
   "cell_type": "code",
   "execution_count": 48,
   "metadata": {},
   "outputs": [
    {
     "data": {
      "text/plain": [
       "1.0    10673\n",
       "2.0     8235\n",
       "1.5     1910\n",
       "3.0      611\n",
       "2.5      161\n",
       "3.5        7\n",
       "Name: floors, dtype: int64"
      ]
     },
     "execution_count": 48,
     "metadata": {},
     "output_type": "execute_result"
    }
   ],
   "source": [
    "floors = house_data[\"floors\"]\n",
    "floors.value_counts()"
   ]
  },
  {
   "cell_type": "markdown",
   "metadata": {},
   "source": [
    "# 8 waterfront --YES(146)/NO(19075)-- \n",
    "price per acre of properties including a waterfront ? \n",
    "price per acre of properties including water front vs properties with highly rated views "
   ]
  },
  {
   "cell_type": "code",
   "execution_count": 49,
   "metadata": {},
   "outputs": [
    {
     "data": {
      "text/plain": [
       "NO     19075\n",
       "YES      146\n",
       "Name: waterfront, dtype: int64"
      ]
     },
     "execution_count": 49,
     "metadata": {},
     "output_type": "execute_result"
    }
   ],
   "source": [
    "waterfront = house_data[\"waterfront\"]\n",
    "waterfront.value_counts()"
   ]
  },
  {
   "cell_type": "markdown",
   "metadata": {},
   "source": [
    "# 9 -- view -- categorical -- seems clean\n",
    "price per acre of properties including water front vs properties with highly rated views "
   ]
  },
  {
   "cell_type": "code",
   "execution_count": 50,
   "metadata": {},
   "outputs": [
    {
     "data": {
      "text/plain": [
       "NONE         19422\n",
       "AVERAGE        957\n",
       "GOOD           508\n",
       "FAIR           330\n",
       "EXCELLENT      317\n",
       "Name: view, dtype: int64"
      ]
     },
     "execution_count": 50,
     "metadata": {},
     "output_type": "execute_result"
    }
   ],
   "source": [
    "view = house_data[\"view\"]\n",
    "view.value_counts()"
   ]
  },
  {
   "cell_type": "markdown",
   "metadata": {},
   "source": [
    "# 10 --Condtion -- categorical -- similar to grade"
   ]
  },
  {
   "cell_type": "code",
   "execution_count": 51,
   "metadata": {},
   "outputs": [
    {
     "data": {
      "text/plain": [
       "Average      14020\n",
       "Good          5677\n",
       "Very Good     1701\n",
       "Fair           170\n",
       "Poor            29\n",
       "Name: condition, dtype: int64"
      ]
     },
     "execution_count": 51,
     "metadata": {},
     "output_type": "execute_result"
    }
   ],
   "source": [
    "condition = house_data[\"condition\"]\n",
    "condition.value_counts()"
   ]
  },
  {
   "cell_type": "code",
   "execution_count": null,
   "metadata": {},
   "outputs": [],
   "source": []
  },
  {
   "cell_type": "markdown",
   "metadata": {},
   "source": [
    "# 11 --Grade  -- categorical -- Similar to condition"
   ]
  },
  {
   "cell_type": "code",
   "execution_count": 52,
   "metadata": {},
   "outputs": [
    {
     "data": {
      "text/plain": [
       "7 Average        8974\n",
       "8 Good           6065\n",
       "9 Better         2615\n",
       "6 Low Average    2038\n",
       "10 Very Good     1134\n",
       "11 Excellent      399\n",
       "5 Fair            242\n",
       "12 Luxury          89\n",
       "4 Low              27\n",
       "13 Mansion         13\n",
       "3 Poor              1\n",
       "Name: grade, dtype: int64"
      ]
     },
     "execution_count": 52,
     "metadata": {},
     "output_type": "execute_result"
    }
   ],
   "source": [
    "grade = house_data['grade']\n",
    "grade.value_counts()"
   ]
  },
  {
   "cell_type": "markdown",
   "metadata": {},
   "source": [
    "# 14 -- year built"
   ]
  },
  {
   "cell_type": "code",
   "execution_count": 53,
   "metadata": {},
   "outputs": [
    {
     "data": {
      "text/plain": [
       "2014    559\n",
       "2006    453\n",
       "2005    450\n",
       "2004    433\n",
       "2003    420\n",
       "       ... \n",
       "1933     30\n",
       "1901     29\n",
       "1902     27\n",
       "1935     24\n",
       "1934     21\n",
       "Name: yr_built, Length: 116, dtype: int64"
      ]
     },
     "execution_count": 53,
     "metadata": {},
     "output_type": "execute_result"
    }
   ],
   "source": [
    "yr_built = house_data['yr_built']\n",
    "yr_built.value_counts()"
   ]
  },
  {
   "cell_type": "code",
   "execution_count": null,
   "metadata": {},
   "outputs": [],
   "source": []
  },
  {
   "cell_type": "markdown",
   "metadata": {},
   "source": [
    "# 15 == Year renovated -- tons of nulls(zeros)-- "
   ]
  },
  {
   "cell_type": "code",
   "execution_count": 54,
   "metadata": {},
   "outputs": [
    {
     "data": {
      "text/plain": [
       "0.0       17011\n",
       "2014.0       73\n",
       "2003.0       31\n",
       "2013.0       31\n",
       "2007.0       30\n",
       "          ...  \n",
       "1946.0        1\n",
       "1959.0        1\n",
       "1971.0        1\n",
       "1951.0        1\n",
       "1954.0        1\n",
       "Name: yr_renovated, Length: 70, dtype: int64"
      ]
     },
     "execution_count": 54,
     "metadata": {},
     "output_type": "execute_result"
    }
   ],
   "source": [
    "yr_renovated = house_data['yr_renovated']\n",
    "yr_renovated.value_counts()"
   ]
  },
  {
   "cell_type": "markdown",
   "metadata": {},
   "source": [
    "# 16 --Zipcode -- Categorical"
   ]
  },
  {
   "cell_type": "code",
   "execution_count": 55,
   "metadata": {},
   "outputs": [
    {
     "data": {
      "text/plain": [
       "'\\n\\nCan be used to find most valuable areas\\nArea density vs price \\n\\n'"
      ]
     },
     "execution_count": 55,
     "metadata": {},
     "output_type": "execute_result"
    }
   ],
   "source": [
    "\"\"\"\n",
    "\n",
    "Can be used to find most valuable areas\n",
    "Area density vs price \n",
    "\n",
    "\"\"\""
   ]
  },
  {
   "cell_type": "code",
   "execution_count": 56,
   "metadata": {
    "scrolled": true
   },
   "outputs": [
    {
     "data": {
      "text/plain": [
       "98103    602\n",
       "98038    589\n",
       "98115    583\n",
       "98052    574\n",
       "98117    553\n",
       "        ... \n",
       "98102    104\n",
       "98010    100\n",
       "98024     80\n",
       "98148     57\n",
       "98039     50\n",
       "Name: zipcode, Length: 70, dtype: int64"
      ]
     },
     "execution_count": 56,
     "metadata": {},
     "output_type": "execute_result"
    }
   ],
   "source": [
    "zipcode = house_data['zipcode']\n",
    "zipcode.value_counts()"
   ]
  },
  {
   "cell_type": "markdown",
   "metadata": {},
   "source": [
    "# 19 -- nearest15sqft  --- nearest 15 homes avg sqft -- seems clean\n",
    "<br>\n",
    "Can be used to identify areas with largest / smallest homes\n",
    ".describe() .value_counts() .mean()"
   ]
  },
  {
   "cell_type": "code",
   "execution_count": null,
   "metadata": {},
   "outputs": [],
   "source": []
  },
  {
   "cell_type": "code",
   "execution_count": 57,
   "metadata": {},
   "outputs": [],
   "source": [
    "# nearest_15_sqft_home = house_data['sqft_living15']\n",
    "# nearest_15_sqft.value_counts()\n",
    "# nearest_15_sqft.describe()"
   ]
  },
  {
   "cell_type": "code",
   "execution_count": null,
   "metadata": {},
   "outputs": [],
   "source": []
  },
  {
   "cell_type": "code",
   "execution_count": null,
   "metadata": {},
   "outputs": [],
   "source": []
  },
  {
   "cell_type": "markdown",
   "metadata": {},
   "source": [
    "# 20 -- sqft_lot15 -- Nearest 15 lots average sqft--"
   ]
  },
  {
   "cell_type": "code",
   "execution_count": 58,
   "metadata": {},
   "outputs": [
    {
     "data": {
      "text/plain": [
       "5000      427\n",
       "4000      356\n",
       "6000      288\n",
       "7200      210\n",
       "4800      145\n",
       "         ... \n",
       "11036       1\n",
       "8989        1\n",
       "871200      1\n",
       "809         1\n",
       "6147        1\n",
       "Name: sqft_lot15, Length: 8682, dtype: int64"
      ]
     },
     "execution_count": 58,
     "metadata": {},
     "output_type": "execute_result"
    }
   ],
   "source": [
    "sqft_lot15 = house_data['sqft_lot15']\n",
    "sqft_lot15.value_counts()"
   ]
  },
  {
   "cell_type": "markdown",
   "metadata": {},
   "source": [
    "# END BASE EXPLORATION *** *** *** *** *** *** *** *** *** *** "
   ]
  },
  {
   "cell_type": "code",
   "execution_count": null,
   "metadata": {},
   "outputs": [],
   "source": []
  },
  {
   "cell_type": "code",
   "execution_count": null,
   "metadata": {},
   "outputs": [],
   "source": []
  },
  {
   "cell_type": "code",
   "execution_count": null,
   "metadata": {},
   "outputs": [],
   "source": []
  },
  {
   "cell_type": "code",
   "execution_count": null,
   "metadata": {},
   "outputs": [],
   "source": []
  },
  {
   "cell_type": "code",
   "execution_count": 59,
   "metadata": {},
   "outputs": [
    {
     "name": "stdout",
     "output_type": "stream",
     "text": [
      "<class 'pandas.core.frame.DataFrame'>\n",
      "RangeIndex: 21597 entries, 0 to 21596\n",
      "Data columns (total 21 columns):\n",
      " #   Column         Non-Null Count  Dtype  \n",
      "---  ------         --------------  -----  \n",
      " 0   id             21597 non-null  int64  \n",
      " 1   date           21597 non-null  object \n",
      " 2   price          21597 non-null  float64\n",
      " 3   bedrooms       21597 non-null  int64  \n",
      " 4   bathrooms      21597 non-null  float64\n",
      " 5   sqft_living    21597 non-null  int64  \n",
      " 6   sqft_lot       21597 non-null  int64  \n",
      " 7   floors         21597 non-null  float64\n",
      " 8   waterfront     19221 non-null  object \n",
      " 9   view           21534 non-null  object \n",
      " 10  condition      21597 non-null  object \n",
      " 11  grade          21597 non-null  object \n",
      " 12  sqft_above     21597 non-null  int64  \n",
      " 13  sqft_basement  21597 non-null  object \n",
      " 14  yr_built       21597 non-null  int64  \n",
      " 15  yr_renovated   17755 non-null  float64\n",
      " 16  zipcode        21597 non-null  int64  \n",
      " 17  lat            21597 non-null  float64\n",
      " 18  long           21597 non-null  float64\n",
      " 19  sqft_living15  21597 non-null  int64  \n",
      " 20  sqft_lot15     21597 non-null  int64  \n",
      "dtypes: float64(6), int64(9), object(6)\n",
      "memory usage: 3.5+ MB\n"
     ]
    }
   ],
   "source": [
    "house_data.info()"
   ]
  },
  {
   "cell_type": "code",
   "execution_count": 60,
   "metadata": {},
   "outputs": [
    {
     "data": {
      "text/plain": [
       "count    21597.000000\n",
       "mean      1970.999676\n",
       "std         29.375234\n",
       "min       1900.000000\n",
       "25%       1951.000000\n",
       "50%       1975.000000\n",
       "75%       1997.000000\n",
       "max       2015.000000\n",
       "Name: yr_built, dtype: float64"
      ]
     },
     "execution_count": 60,
     "metadata": {},
     "output_type": "execute_result"
    }
   ],
   "source": [
    "house_data['yr_built'].describe()"
   ]
  },
  {
   "cell_type": "markdown",
   "metadata": {},
   "source": [
    "# New column ** decadeBuilt -- all yr_built sorted by decade "
   ]
  },
  {
   "cell_type": "code",
   "execution_count": 62,
   "metadata": {},
   "outputs": [
    {
     "data": {
      "text/plain": [
       "2000    3285\n",
       "1960    2378\n",
       "0       2337\n",
       "1950    2116\n",
       "1980    1991\n",
       "1990    1969\n",
       "1970    1942\n",
       "1940    1568\n",
       "2010    1241\n",
       "1920    1078\n",
       "1910     717\n",
       "1900     551\n",
       "1930     424\n",
       "Name: decadeBuilt, dtype: int64"
      ]
     },
     "execution_count": 62,
     "metadata": {},
     "output_type": "execute_result"
    }
   ],
   "source": [
    "df = house_data\n",
    "\n",
    "conditions = [\n",
    "    np.logical_and(df['yr_built'].ge(1900), pd.Series.lt(df['yr_built'], 1909)),\n",
    "    np.logical_and(df['yr_built'].ge(1910), pd.Series.lt(df['yr_built'], 1919)),\n",
    "    np.logical_and(df['yr_built'].ge(1920), pd.Series.lt(df['yr_built'], 1929)),\n",
    "    np.logical_and(df['yr_built'].ge(1930), pd.Series.lt(df['yr_built'], 1939)),\n",
    "    np.logical_and(df['yr_built'].ge(1940), pd.Series.lt(df['yr_built'], 1949)),\n",
    "    np.logical_and(df['yr_built'].ge(1950), pd.Series.lt(df['yr_built'], 1959)),\n",
    "    np.logical_and(df['yr_built'].ge(1960), pd.Series.lt(df['yr_built'], 1969)),\n",
    "    np.logical_and(df['yr_built'].ge(1970), pd.Series.lt(df['yr_built'], 1979)),\n",
    "    np.logical_and(df['yr_built'].ge(1980), pd.Series.lt(df['yr_built'], 1989)),\n",
    "    np.logical_and(df['yr_built'].ge(1990), pd.Series.lt(df['yr_built'], 1999)),\n",
    "    np.logical_and(df['yr_built'].ge(2000), pd.Series.lt(df['yr_built'], 2009)),\n",
    "    np.logical_and(df['yr_built'].ge(2010), pd.Series.lt(df['yr_built'], 2019)),\n",
    "]\n",
    "\n",
    "outputs = [1900, 1910, 1920, 1930, 1940, 1950, 1960, 1970, 1980, 1990, 2000, 2010]\n",
    "\n",
    "house_data['decadeBuilt'] = pd.Series(np.select(conditions,  outputs))\n",
    "house_data['decadeBuilt'].value_counts()\n"
   ]
  },
  {
   "cell_type": "code",
   "execution_count": null,
   "metadata": {},
   "outputs": [],
   "source": [
    "# goal ------ group homes by year built and sort by price and others things \n",
    "# can be used to create a bar plot, by year as x and others such as price as y \n",
    "\n",
    "decade_built_means = house_data.groupby((house_data.yr_built//10)*10).mean() #this works but outputs column means\n",
    "decade_built_means\n",
    "\n",
    "# sns.scatterplot(yr_built, price)"
   ]
  },
  {
   "cell_type": "code",
   "execution_count": null,
   "metadata": {},
   "outputs": [],
   "source": [
    "sns.scatterplot(sqft_lot15, price)"
   ]
  },
  {
   "cell_type": "code",
   "execution_count": null,
   "metadata": {},
   "outputs": [],
   "source": [
    "waterfront_group = house_data.groupby('waterfront').mean()\n",
    "waterfront_group.head()\n",
    "\n"
   ]
  },
  {
   "cell_type": "markdown",
   "metadata": {},
   "source": [
    "water front properties vs not water front \n",
    "<BR>\n",
    "water front has higher average \n",
    "    PRICE ,\n",
    "    BATHROOMS, \n",
    "    SQFT_LIVING,\n",
    "    SQFT_LOT,\n",
    "    FLOORS ,\n",
    "    SQFT ABOVE, \n",
    "    SQFT LIVING 15, \n",
    "    SQFT LOT 15 ,\n",
    "    "
   ]
  },
  {
   "cell_type": "code",
   "execution_count": null,
   "metadata": {},
   "outputs": [],
   "source": [
    "# Data grouped by zipcode sorted by mean price in descending order\n",
    "# shows zipcodes with highest prices \n",
    "sort_price_group_zipcode = house_data.groupby('zipcode').mean().sort_values(['price'], ascending = False)\n",
    "sort_price_group_zipcode.head(1)"
   ]
  },
  {
   "cell_type": "markdown",
   "metadata": {},
   "source": [
    "# "
   ]
  },
  {
   "cell_type": "markdown",
   "metadata": {},
   "source": [
    "# Multiple linear regression "
   ]
  },
  {
   "cell_type": "code",
   "execution_count": null,
   "metadata": {},
   "outputs": [],
   "source": [
    "\"\"\"\n",
    "Steps \n",
    "need to make categories out of what are testing on,\n",
    "combine all test data into 1 dataframe \n",
    "need to clean the data , remove all nulls \n",
    "\n",
    "split dependent variable x (df . (drop independant variable) .values)--\n",
    "from independant variable(single column selector .values) as y \n",
    "\n",
    "\n",
    "\n",
    "\n",
    "\n",
    "\n",
    "\n",
    "\n",
    "\"\"\""
   ]
  },
  {
   "cell_type": "code",
   "execution_count": 78,
   "metadata": {},
   "outputs": [
    {
     "data": {
      "text/plain": [
       "Index(['id', 'date', 'price', 'bedrooms', 'bathrooms', 'sqft_living',\n",
       "       'sqft_lot', 'floors', 'waterfront', 'view', 'condition', 'grade',\n",
       "       'sqft_above', 'sqft_basement', 'yr_built', 'yr_renovated', 'zipcode',\n",
       "       'lat', 'long', 'sqft_living15', 'sqft_lot15', 'decadeBuilt'],\n",
       "      dtype='object')"
      ]
     },
     "execution_count": 78,
     "metadata": {},
     "output_type": "execute_result"
    }
   ],
   "source": [
    "house_data.columns"
   ]
  },
  {
   "cell_type": "code",
   "execution_count": 190,
   "metadata": {},
   "outputs": [
    {
     "name": "stderr",
     "output_type": "stream",
     "text": [
      "/var/folders/yz/0dpd9f1x7vb0v9x4tcb5n1bh0000gn/T/ipykernel_20748/1365221673.py:12: SettingWithCopyWarning: \n",
      "A value is trying to be set on a copy of a slice from a DataFrame\n",
      "\n",
      "See the caveats in the documentation: https://pandas.pydata.org/pandas-docs/stable/user_guide/indexing.html#returning-a-view-versus-a-copy\n",
      "  test_data.drop_duplicates(subset= 'id', keep='first', inplace=True, ignore_index = True)\n",
      "/Users/austinboring/opt/anaconda3/envs/learn-env/lib/python3.8/site-packages/pandas/core/frame.py:4163: SettingWithCopyWarning: \n",
      "A value is trying to be set on a copy of a slice from a DataFrame\n",
      "\n",
      "See the caveats in the documentation: https://pandas.pydata.org/pandas-docs/stable/user_guide/indexing.html#returning-a-view-versus-a-copy\n",
      "  return super().drop(\n",
      "/var/folders/yz/0dpd9f1x7vb0v9x4tcb5n1bh0000gn/T/ipykernel_20748/1365221673.py:29: SettingWithCopyWarning: \n",
      "A value is trying to be set on a copy of a slice from a DataFrame\n",
      "\n",
      "See the caveats in the documentation: https://pandas.pydata.org/pandas-docs/stable/user_guide/indexing.html#returning-a-view-versus-a-copy\n",
      "  test_data['bathrooms'].dropna(inplace = True)\n"
     ]
    },
    {
     "data": {
      "text/plain": [
       "count    21207.000000\n",
       "mean         3.359881\n",
       "std          0.865341\n",
       "min          1.000000\n",
       "25%          3.000000\n",
       "50%          3.000000\n",
       "75%          4.000000\n",
       "max          6.000000\n",
       "Name: bedrooms, dtype: float64"
      ]
     },
     "execution_count": 190,
     "metadata": {},
     "output_type": "execute_result"
    }
   ],
   "source": [
    "#Create test dataframe with all independant and one dependant variable \n",
    "\n",
    "test_data = house_data[['id', 'bedrooms', 'bathrooms', 'sqft_living', 'sqft_lot', 'floors',\n",
    "                        'sqft_above', 'yr_built', 'zipcode', 'sqft_living15', 'sqft_lot15','zipcode', \n",
    "                        'grade', 'price'\n",
    "                       ]]\n",
    "\n",
    "#id clean\n",
    "# Drop id nulls and duplicates \n",
    "\n",
    "test_data['id'].dropna(inplace = True)\n",
    "test_data.drop_duplicates(subset= 'id', keep='first', inplace=True, ignore_index = True)\n",
    "####\n",
    "# test_data.id.value_counts() # Removed all duplpicates in unique id column\n",
    "\n",
    "\n",
    "\n",
    "\n",
    "# bedrooms already clean\n",
    "test_data.drop(test_data.index[test_data['bedrooms'] >= 7], inplace = True)\n",
    "# test_data['bedrooms'].value_counts()\n",
    "\n",
    "\n",
    "#bathrooms clean\n",
    "#remove all bathroom values less than 1\n",
    "\n",
    "test_data = test_data[test_data.bathrooms >= 1.0]\n",
    "test_data = test_data[test_data.bathrooms <= 4.5]\n",
    "test_data['bathrooms'].dropna(inplace = True)\n",
    "# ####\n",
    "# test_data.bathrooms.describe()\n",
    "test_data.bathrooms.value_counts()\n",
    "\n",
    "\n",
    "\n",
    "\n",
    "# sqft living clean\n",
    "\n",
    "# already clean\n",
    "# test_data['sqft_living'].isna().sum()\n",
    "# test_data.sqft_living = test_data.loc[(test_data.sqft_living < 5000)]\n",
    "\n",
    "\n",
    "# test_data.sqft_living.describe()\n",
    "# test_data.sqft_living.value_counts()\n",
    "\n",
    "\n",
    "###\n",
    "\n",
    "\n",
    "# sqft_lot clean\n",
    "\n",
    "# test data clean\n",
    "# test_data['sqft_lot'].isna().sum()\n",
    "# test_data['sqft_lot'].value_counts()\n",
    "### test_data.sqft_living = test_data.loc[(test_data.sqft_living < 5000)]\n",
    "# test_data.sqft_lot.describe()\n",
    "###\n",
    "\n",
    "\n",
    "\n",
    "# floors\n",
    "\n",
    "# test data clean\n",
    "\n",
    "# test_data['floors'].isna().sum()\n",
    "# test_data['floors'].head()\n",
    "# test_data['floors'].value_counts()\n",
    "# test_data.floors.describe()\n",
    "\n",
    "\n",
    "\n",
    "\n",
    "\n",
    "# test data clean\n",
    "# test_data['sqft_above'].isna().sum()\n",
    "# test_data['sqft_above'].value_counts()\n",
    "# test_data.sqft_above.describe()\n",
    "\n",
    "\n",
    "\n",
    "\n",
    "# using basements would involve dropping half of all values --- removing basements from test data \n",
    "\n",
    "# # test data basements clean\n",
    "\n",
    "# test_data['sqft_basement'].replace('?', '0.0')\n",
    "# test_data['sqft_basement'].map(lambda value: float(value))\n",
    "# # test_data['sqft_basement'].astype(float)\n",
    "# # test_data['sqft_basement'].isna().sum()\n",
    "# test_data['sqft_basement'].value_counts()\n",
    "# # test_data.sqft_basement.describe()\n",
    "# type(test_data['sqft_basement'][4])\n",
    "# # test_data['sqft_basement'][54]\n",
    "\n",
    "\n",
    "\n",
    "\n",
    "# test data clean yr_built good \n",
    "\n",
    "# test_data['yr_built'].isna().sum()\n",
    "# test_data['yr_built'].value_counts()\n",
    "# test_data.yr_built.describe()\n",
    "\n",
    "\n",
    "\n",
    "\n",
    "\n",
    "# test data clean zipcodes good \n",
    "# test_data['zipcode'].isna().sum()\n",
    "# test_data['zipcode'].value_counts()\n",
    "# test_data.zipcode.describe()\n",
    "\n",
    "\n",
    "\n",
    "\n",
    "\n",
    "# test data clean sqft_living good\n",
    "# test_data['sqft_living15'].isna().sum()\n",
    "# test_data['sqft_living15'].value_counts()\n",
    "# test_data.sqft_living15.describe()\n",
    "\n",
    "\n",
    "# sqft_lot15\n",
    "# test data clean sqft_lot15 good\n",
    "# test_data['sqft_lot15'].isna().sum()\n",
    "# test_data['sqft_lot15'].value_counts()\n",
    "# test_data.sqft_lot15.describe()\n",
    "\n",
    "\n",
    "\n",
    "# sqft_lot15\n",
    "# test data clean sqft_lot15 good\n",
    "# test_data['grade'].isna().sum()\n",
    "# test_data['grade'].value_counts()\n",
    "# test_data.grade.describe()\n",
    "\n",
    "\n",
    "\n",
    "\n",
    "# price\n",
    "# test data clean price good\n",
    "# test_data['price'].isna().sum()\n",
    "# test_data['price'].value_counts()\n",
    "# test_data.price.describe()\n",
    "\n",
    "# *******************************************************************************\n",
    "# def remove_outlier_iqr(col):\n",
    "#     q1 = col.quantile(0.25)\n",
    "#     q3 = col.quantile(0.75)\n",
    "#     iqr = q3 - q1\n",
    "#     col = col.loc[(col > (q1 - 1.5 * iqr))]\n",
    "        \n",
    "        \n",
    "# test_data.sqft_living = remove_outlier_iqr(test_data.sqft_living)        \n",
    "# reviews.loc[(reviews.country == 'Italy') | (reviews.points >= 90)]\n",
    "# Q1 = df.quantile(0.25)\n",
    "# 2Q3 = df.quantile(0.75)\n",
    "# 3IQR = Q3 - Q1\n",
    "# print(df < (Q1 - 1.5 * IQR)) |(df > (Q3 + 1.5 * IQR))\n",
    "# *******************************************************************************\n",
    "\n",
    "\n",
    "\n",
    "\n",
    "test_data.bedrooms.describe()"
   ]
  },
  {
   "cell_type": "code",
   "execution_count": 169,
   "metadata": {},
   "outputs": [
    {
     "data": {
      "text/plain": [
       "1200.0"
      ]
     },
     "execution_count": 169,
     "metadata": {},
     "output_type": "execute_result"
    }
   ],
   "source": [
    "# sns.histplot(test_data.sqft_living)\n",
    "# sns.boxenplot(test_data.sqft_living)\n",
    "len(test_data.loc[(test_data.sqft_living > 4400)])\n",
    "# test_data.sqft_above.std()\n",
    "# sns.scatterplot(test_data.sqft_living, test_data.price)\n",
    "# pd.plotting.scatter_matrix(test_data, figsize=(10,12));\n",
    "test_data.sqft_above.quantile(.25)"
   ]
  },
  {
   "cell_type": "code",
   "execution_count": 156,
   "metadata": {},
   "outputs": [
    {
     "name": "stdout",
     "output_type": "stream",
     "text": [
      "<class 'pandas.core.frame.DataFrame'>\n",
      "Int64Index: 21207 entries, 0 to 21418\n",
      "Data columns (total 14 columns):\n",
      " #   Column         Non-Null Count  Dtype  \n",
      "---  ------         --------------  -----  \n",
      " 0   id             21207 non-null  int64  \n",
      " 1   bedrooms       21207 non-null  int64  \n",
      " 2   bathrooms      21207 non-null  float64\n",
      " 3   sqft_living    21207 non-null  int64  \n",
      " 4   sqft_lot       21207 non-null  int64  \n",
      " 5   floors         21207 non-null  float64\n",
      " 6   sqft_above     21207 non-null  int64  \n",
      " 7   yr_built       21207 non-null  int64  \n",
      " 8   zipcode        21207 non-null  int64  \n",
      " 9   sqft_living15  21207 non-null  int64  \n",
      " 10  sqft_lot15     21207 non-null  int64  \n",
      " 11  zipcode        21207 non-null  int64  \n",
      " 12  grade          21207 non-null  object \n",
      " 13  price          21207 non-null  float64\n",
      "dtypes: float64(3), int64(10), object(1)\n",
      "memory usage: 2.4+ MB\n"
     ]
    }
   ],
   "source": [
    "test_data.info()"
   ]
  },
  {
   "cell_type": "code",
   "execution_count": null,
   "metadata": {},
   "outputs": [],
   "source": [
    "# test_data.grade.astype('category')\n",
    "test_data.grade = test_data['grade'].astype(\"category\")\n",
    "# test_data['grade'].dtype\n",
    "test_data.dtypes\n"
   ]
  },
  {
   "cell_type": "code",
   "execution_count": 71,
   "metadata": {},
   "outputs": [
    {
     "data": {
      "text/plain": [
       "pandas.core.series.Series"
      ]
     },
     "execution_count": 71,
     "metadata": {},
     "output_type": "execute_result"
    }
   ],
   "source": [
    "test_data.grade"
   ]
  },
  {
   "cell_type": "code",
   "execution_count": 72,
   "metadata": {},
   "outputs": [
    {
     "name": "stdout",
     "output_type": "stream",
     "text": [
      "<class 'pandas.core.frame.DataFrame'>\n",
      "Int64Index: 21346 entries, 0 to 21418\n",
      "Data columns (total 13 columns):\n",
      " #   Column         Non-Null Count  Dtype  \n",
      "---  ------         --------------  -----  \n",
      " 0   id             21346 non-null  int64  \n",
      " 1   bedrooms       21346 non-null  int64  \n",
      " 2   bathrooms      21346 non-null  float64\n",
      " 3   sqft_living    21346 non-null  int64  \n",
      " 4   sqft_lot       21346 non-null  int64  \n",
      " 5   floors         21346 non-null  float64\n",
      " 6   sqft_above     21346 non-null  int64  \n",
      " 7   yr_built       21346 non-null  int64  \n",
      " 8   zipcode        21346 non-null  int64  \n",
      " 9   sqft_living15  21346 non-null  int64  \n",
      " 10  sqft_lot15     21346 non-null  int64  \n",
      " 11  grade          21346 non-null  object \n",
      " 12  price          21346 non-null  float64\n",
      "dtypes: float64(3), int64(9), object(1)\n",
      "memory usage: 2.3+ MB\n"
     ]
    }
   ],
   "source": [
    "test_data.info()"
   ]
  },
  {
   "cell_type": "code",
   "execution_count": null,
   "metadata": {},
   "outputs": [],
   "source": [
    "test_data.grade = test_data['grade'].astype(cat_type)\n",
    "cat_type = CategoricalDtype(categories=['4 Low', '5 Fair', '6 Low Average', '7 Average',\n",
    "                                        '8 Good','9 Better', '10 Very Good', '11 Excellent',\n",
    "                                        '12 Luxury', '13 Mansion'], ordered=True)"
   ]
  },
  {
   "cell_type": "code",
   "execution_count": null,
   "metadata": {},
   "outputs": [],
   "source": []
  },
  {
   "cell_type": "code",
   "execution_count": 75,
   "metadata": {},
   "outputs": [],
   "source": [
    "# Potentially better ? not entirely sure, believe i should be using sklearn\n",
    "test_data.bedrooms = test_data['bedrooms'].astype('category')\n",
    "test_data.bathrooms = test_data['bathrooms'].astype('category')\n",
    "test_data.floors = test_data['floors'].astype('category')\n",
    "test_data.yr_built = test_data['yr_built'].astype('category')\n",
    "test_data.zipcode = test_data['zipcode'].astype('category')\n"
   ]
  },
  {
   "cell_type": "code",
   "execution_count": 77,
   "metadata": {},
   "outputs": [
    {
     "data": {
      "text/plain": [
       "2014    559\n",
       "2006    453\n",
       "2005    450\n",
       "2004    429\n",
       "2003    420\n",
       "       ... \n",
       "1933     29\n",
       "1901     29\n",
       "1902     27\n",
       "1935     24\n",
       "1934     20\n",
       "Name: yr_built, Length: 116, dtype: int64"
      ]
     },
     "execution_count": 77,
     "metadata": {},
     "output_type": "execute_result"
    }
   ],
   "source": [
    "test_data."
   ]
  },
  {
   "cell_type": "code",
   "execution_count": null,
   "metadata": {},
   "outputs": [],
   "source": []
  },
  {
   "cell_type": "code",
   "execution_count": null,
   "metadata": {},
   "outputs": [],
   "source": []
  },
  {
   "cell_type": "code",
   "execution_count": null,
   "metadata": {},
   "outputs": [],
   "source": []
  },
  {
   "cell_type": "code",
   "execution_count": null,
   "metadata": {},
   "outputs": [],
   "source": []
  },
  {
   "cell_type": "code",
   "execution_count": null,
   "metadata": {},
   "outputs": [],
   "source": []
  },
  {
   "cell_type": "code",
   "execution_count": null,
   "metadata": {},
   "outputs": [],
   "source": []
  },
  {
   "cell_type": "code",
   "execution_count": null,
   "metadata": {},
   "outputs": [],
   "source": []
  },
  {
   "cell_type": "markdown",
   "metadata": {},
   "source": [
    "# Machine learning for first regression fail "
   ]
  },
  {
   "cell_type": "code",
   "execution_count": null,
   "metadata": {},
   "outputs": [],
   "source": [
    "# i think this here is getting into machine learning ? not a bad idea i guess \n",
    "# test_va is just test_data as an array\n",
    "x = test_va[:, :-1]\n",
    "y = test_va[:, -1]\n",
    "from sklearn.preprocessing import LabelEncoder\n",
    "label_encoder = LabelEncoder()\n",
    "y = label_encoder.fit_transform(y)"
   ]
  },
  {
   "cell_type": "code",
   "execution_count": null,
   "metadata": {},
   "outputs": [],
   "source": []
  }
 ],
 "metadata": {
  "kernelspec": {
   "display_name": "Python 3.8.5 ('learn-env')",
   "language": "python",
   "name": "python385jvsc74a57bd00386e0ab960921a80f389732ca4b5c334f986e0948b3f6661aa613ff8b30dca4"
  },
  "language_info": {
   "codemirror_mode": {
    "name": "ipython",
    "version": 3
   },
   "file_extension": ".py",
   "mimetype": "text/x-python",
   "name": "python",
   "nbconvert_exporter": "python",
   "pygments_lexer": "ipython3",
   "version": "3.8.5"
  }
 },
 "nbformat": 4,
 "nbformat_minor": 4
}
